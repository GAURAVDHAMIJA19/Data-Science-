{
 "cells": [
  {
   "cell_type": "markdown",
   "id": "1a8ae242-36f4-4265-aafa-22e047561d33",
   "metadata": {},
   "source": [
    "function codition"
   ]
  },
  {
   "cell_type": "code",
   "execution_count": 115,
   "id": "8ca480da-81e2-4cd8-8b2f-13567f6858ef",
   "metadata": {},
   "outputs": [
    {
     "name": "stdout",
     "output_type": "stream",
     "text": [
      " gaurav not a palindrome\n"
     ]
    }
   ],
   "source": [
    "a='gaurav'\n",
    "if a==a[::-1]:\n",
    "    print(f' {a} is a palindrome')\n",
    "else:\n",
    "    print(f' {a} not a palindrome')"
   ]
  },
  {
   "cell_type": "code",
   "execution_count": 40,
   "id": "49f7ada8-4f5a-4297-a5db-6e393b27aa7d",
   "metadata": {},
   "outputs": [],
   "source": [
    "def check_palindrome(word:str):\n",
    "    if type(word)==str:\n",
    "        word=word.upper()\n",
    "        if word==word[::-1]:\n",
    "            return 'palindrome'\n",
    "        else:\n",
    "            return 'not a palindrome'\n",
    "    else:\n",
    "        return ' invalid datatype'"
   ]
  },
  {
   "cell_type": "code",
   "execution_count": 43,
   "id": "e9a75ed4-4da3-4175-a1d2-1baad1d974ce",
   "metadata": {},
   "outputs": [
    {
     "data": {
      "text/plain": [
       "' invalid datatype'"
      ]
     },
     "execution_count": 43,
     "metadata": {},
     "output_type": "execute_result"
    }
   ],
   "source": [
    "check_palindrome(121)"
   ]
  },
  {
   "cell_type": "code",
   "execution_count": 47,
   "id": "4e6a4216-d42d-4b7c-b091-4d6db03c5f01",
   "metadata": {},
   "outputs": [],
   "source": [
    "def give_fibo(n):\n",
    "    fibo=[0,1]\n",
    "    for i in range(n-2):\n",
    "        last=fibo[-1]\n",
    "        second=fibo[-2]\n",
    "        next_num=last + second\n",
    "        fibo.append(next_num)\n",
    "    return fibo\n",
    "    "
   ]
  },
  {
   "cell_type": "code",
   "execution_count": 48,
   "id": "51e71910-1d84-496d-9728-3f485ba159da",
   "metadata": {},
   "outputs": [
    {
     "name": "stdout",
     "output_type": "stream",
     "text": [
      "[0, 1, 1, 2, 3, 5, 8, 13, 21, 34, 55, 89, 144, 233, 377, 610, 987, 1597, 2584, 4181]\n"
     ]
    }
   ],
   "source": [
    "print(give_fibo(20))"
   ]
  },
  {
   "cell_type": "code",
   "execution_count": null,
   "id": "8a710b69-ffc7-4fde-8302-e4898957518d",
   "metadata": {},
   "outputs": [],
   "source": []
  },
  {
   "cell_type": "code",
   "execution_count": 52,
   "id": "3c1691b4-e97a-4ce9-89f1-a4f589f2b437",
   "metadata": {},
   "outputs": [
    {
     "name": "stdin",
     "output_type": "stream",
     "text": [
      "enter a number 3\n"
     ]
    },
    {
     "name": "stdout",
     "output_type": "stream",
     "text": [
      "prime number\n"
     ]
    }
   ],
   "source": [
    "a=int(input(\"enter a number\"))\n",
    "for i in range(2,a):\n",
    "    if a%i==0:\n",
    "        print('not a prime number')\n",
    "        break\n",
    "    else:\n",
    "        print('prime number')\n",
    "        "
   ]
  },
  {
   "cell_type": "code",
   "execution_count": 53,
   "id": "b0a9769e-5ac7-47d8-88a7-b4bec5197776",
   "metadata": {},
   "outputs": [],
   "source": [
    "def check_prime(number):\n",
    "    for i in range(2,number):\n",
    "        if number%i==0:\n",
    "            return 'not a prime number'\n",
    "            break\n",
    "        else:\n",
    "            return 'prime number'\n",
    "            \n",
    "    "
   ]
  },
  {
   "cell_type": "code",
   "execution_count": 54,
   "id": "66fdc49a-f532-4ea5-9431-b93989bc97e1",
   "metadata": {},
   "outputs": [
    {
     "name": "stdout",
     "output_type": "stream",
     "text": [
      "not a prime number\n"
     ]
    }
   ],
   "source": [
    "print(check_prime(20))"
   ]
  },
  {
   "cell_type": "code",
   "execution_count": 55,
   "id": "7c3f875d-902e-4ab2-b51b-f1a6247a991b",
   "metadata": {},
   "outputs": [
    {
     "name": "stdout",
     "output_type": "stream",
     "text": [
      "helloworld\n"
     ]
    }
   ],
   "source": [
    "print('hello'+'world')"
   ]
  },
  {
   "cell_type": "code",
   "execution_count": 57,
   "id": "fb639143-c711-4c4f-a958-be15d5cfb980",
   "metadata": {},
   "outputs": [
    {
     "name": "stdout",
     "output_type": "stream",
     "text": [
      "\n"
     ]
    }
   ],
   "source": [
    "print('hello'*0)"
   ]
  },
  {
   "cell_type": "code",
   "execution_count": 58,
   "id": "704fb99d-08dc-43d0-81e3-589a4ca9baf5",
   "metadata": {},
   "outputs": [
    {
     "name": "stdout",
     "output_type": "stream",
     "text": [
      "    * \n",
      "   * * \n",
      "  * * * \n",
      " * * * * \n",
      "* * * * * \n"
     ]
    }
   ],
   "source": [
    "n=5\n",
    "for i in range(1,n+1):\n",
    "    print(' '*(n-i) + i*'* ')"
   ]
  },
  {
   "cell_type": "code",
   "execution_count": 80,
   "id": "b791e0da-3dcd-4d8e-95b6-d006019318a2",
   "metadata": {},
   "outputs": [],
   "source": [
    "def print_star(n = 5, typ = 'left',shape = '*'):\n",
    "  if typ  == 'left':\n",
    "    space  = ''\n",
    "\n",
    "  elif typ == 'right':\n",
    "    space = '  '\n",
    "\n",
    "  elif typ == 'mid':\n",
    "    space = ' '\n",
    "\n",
    "  for i in range(1,n+1):\n",
    "    print(space*(n-i) + i*f'{shape} ')"
   ]
  },
  {
   "cell_type": "code",
   "execution_count": 81,
   "id": "3d72e923-6a64-48c7-a91f-326cdc41d7a0",
   "metadata": {},
   "outputs": [
    {
     "name": "stdout",
     "output_type": "stream",
     "text": [
      "% \n",
      "% % \n",
      "% % % \n",
      "% % % % \n",
      "% % % % % \n",
      "% % % % % % \n"
     ]
    }
   ],
   "source": [
    "print_star(6,'left','%')"
   ]
  },
  {
   "cell_type": "code",
   "execution_count": 84,
   "id": "e59bce1a-5284-4592-a5d5-5190ddd9cea6",
   "metadata": {},
   "outputs": [],
   "source": [
    "def print_star(n =5 ,typ='left',shape='iitm'):\n",
    "    if typ=='left':\n",
    "        space=''\n",
    "    elif typ=='right':\n",
    "        space='  '\n",
    "    elif typ=='mid':\n",
    "        space=' '\n",
    "    for i in range (1,n+1):\n",
    "        print(space*(n-i) + i*f'{shape} ')\n",
    "    "
   ]
  },
  {
   "cell_type": "code",
   "execution_count": 91,
   "id": "e211dff7-2141-4e0b-bc61-fb4784ae7234",
   "metadata": {},
   "outputs": [
    {
     "name": "stdout",
     "output_type": "stream",
     "text": [
      "          $ \n",
      "        $ $ \n",
      "      $ $ $ \n",
      "    $ $ $ $ \n",
      "  $ $ $ $ $ \n",
      "$ $ $ $ $ $ \n"
     ]
    }
   ],
   "source": [
    "print_star(6,'mid','$')"
   ]
  },
  {
   "cell_type": "code",
   "execution_count": 93,
   "id": "6e4b4efe-860c-41c9-95d3-f2766998d2a1",
   "metadata": {},
   "outputs": [],
   "source": [
    "def sum_of_natural_number(n):\n",
    "    sum=0\n",
    "    for i in range(1,n+1):\n",
    "        sum=sum+i\n",
    "    return sum"
   ]
  },
  {
   "cell_type": "code",
   "execution_count": 94,
   "id": "22dc35d6-7f66-49b0-8ccb-8954ef966f9d",
   "metadata": {},
   "outputs": [
    {
     "data": {
      "text/plain": [
       "231"
      ]
     },
     "execution_count": 94,
     "metadata": {},
     "output_type": "execute_result"
    }
   ],
   "source": [
    "sum_of_natural_number(21)"
   ]
  },
  {
   "cell_type": "code",
   "execution_count": 97,
   "id": "75340bab-9733-45e0-9fd3-cd83dd2c7bfd",
   "metadata": {},
   "outputs": [],
   "source": [
    "def factorial(n):\n",
    "    result=1\n",
    "    for i in range(1,n+1):\n",
    "        result=result*i\n",
    "    return result\n",
    "        "
   ]
  },
  {
   "cell_type": "code",
   "execution_count": 100,
   "id": "ad124a91-347f-44b9-a4e5-82e497fa8416",
   "metadata": {},
   "outputs": [
    {
     "data": {
      "text/plain": [
       "6"
      ]
     },
     "execution_count": 100,
     "metadata": {},
     "output_type": "execute_result"
    }
   ],
   "source": [
    "factorial(3)"
   ]
  },
  {
   "cell_type": "code",
   "execution_count": null,
   "id": "28fca598-7e9d-4aec-9277-829d752cf66f",
   "metadata": {},
   "outputs": [],
   "source": [
    "#factorial is used to calculate permutation "
   ]
  },
  {
   "cell_type": "code",
   "execution_count": 102,
   "id": "60019f30-c17c-4af7-b84a-72a8f3312d6b",
   "metadata": {},
   "outputs": [],
   "source": [
    "def total_sales(*args):\n",
    "    result=0\n",
    "    for i in args:\n",
    "        result=result+i\n",
    "    return result"
   ]
  },
  {
   "cell_type": "code",
   "execution_count": 105,
   "id": "956ce953-70dd-4220-86e8-19726d30236d",
   "metadata": {},
   "outputs": [
    {
     "data": {
      "text/plain": [
       "33"
      ]
     },
     "execution_count": 105,
     "metadata": {},
     "output_type": "execute_result"
    }
   ],
   "source": [
    "total_sales(1,2,30)"
   ]
  },
  {
   "cell_type": "code",
   "execution_count": 46,
   "id": "89448000-c9e8-4799-9dbc-e409ddacb297",
   "metadata": {},
   "outputs": [],
   "source": [
    "def total_sales(*args):\n",
    "    result=0\n",
    "    for i in args:\n",
    "        result+=i\n",
    "    return result"
   ]
  },
  {
   "cell_type": "code",
   "execution_count": null,
   "id": "712e9318-916e-4788-8d57-e56ca49e0aa9",
   "metadata": {},
   "outputs": [],
   "source": [
    "sales=[200,250,600,700,876,120]\n",
    "# find minimum value"
   ]
  },
  {
   "cell_type": "code",
   "execution_count": 5,
   "id": "4cf36f36-33ef-45b8-8728-a3e2bf6e336e",
   "metadata": {},
   "outputs": [
    {
     "data": {
      "text/plain": [
       "51"
      ]
     },
     "execution_count": 5,
     "metadata": {},
     "output_type": "execute_result"
    }
   ],
   "source": [
    "total_sales(1,2,3,45)"
   ]
  },
  {
   "cell_type": "code",
   "execution_count": 107,
   "id": "9aa7a8de-21eb-4449-aa8f-04e4094b43c1",
   "metadata": {},
   "outputs": [
    {
     "name": "stdout",
     "output_type": "stream",
     "text": [
      "120\n"
     ]
    }
   ],
   "source": [
    "sales=[200,250,600,700,876,120]\n",
    "# find minimum value\n",
    "min_val=sales[0]\n",
    "for i in sales[1:]:\n",
    "    if i <min_val:\n",
    "        min_val=i\n",
    "print(min_val)"
   ]
  },
  {
   "cell_type": "code",
   "execution_count": 111,
   "id": "7705c4f2-3c2f-4a20-88ce-48122c54e4dc",
   "metadata": {},
   "outputs": [],
   "source": [
    "def minn(*data):\n",
    "    min_val=data[0]\n",
    "    for i in data[1:]:\n",
    "        if i<min_val:\n",
    "            min_val=i\n",
    "    return min_val"
   ]
  },
  {
   "cell_type": "code",
   "execution_count": 112,
   "id": "18305658-dbd8-45af-baca-61e4a0c1e9d1",
   "metadata": {},
   "outputs": [
    {
     "data": {
      "text/plain": [
       "1"
      ]
     },
     "execution_count": 112,
     "metadata": {},
     "output_type": "execute_result"
    }
   ],
   "source": [
    "minn(12,34,56,67,78,8,91,1)"
   ]
  },
  {
   "cell_type": "code",
   "execution_count": null,
   "id": "25629f02-5f7f-42ea-b88c-1a01f5b9fad4",
   "metadata": {},
   "outputs": [],
   "source": [
    "min_element=sales[0]\n",
    "for i in sales[1:]:\n",
    "    print(i)   "
   ]
  },
  {
   "cell_type": "code",
   "execution_count": 6,
   "id": "56c13354-4c18-4422-a5d4-c68f446406c8",
   "metadata": {},
   "outputs": [
    {
     "name": "stdout",
     "output_type": "stream",
     "text": [
      "0\n"
     ]
    }
   ],
   "source": [
    "sales = [45678,63,456,2,0]\n",
    "min_element = sales[0]\n",
    "\n",
    "for i in sales[1:]:\n",
    "  if i < min_element:\n",
    "    min_element = i\n",
    "print(min_element)"
   ]
  },
  {
   "cell_type": "code",
   "execution_count": 113,
   "id": "85e24471-7180-4e63-b3ce-cc42e7fc7339",
   "metadata": {},
   "outputs": [],
   "source": [
    "def max_ele(*data):\n",
    "\n",
    "    max_element = data[0]\n",
    "\n",
    "    for i in data[1:]:\n",
    "      if i > max_element:\n",
    "        max_element = i\n",
    "    print( max_element)"
   ]
  },
  {
   "cell_type": "code",
   "execution_count": 114,
   "id": "ebb2b838-787d-48f4-8a3d-68577950b908",
   "metadata": {},
   "outputs": [
    {
     "name": "stdout",
     "output_type": "stream",
     "text": [
      "67\n"
     ]
    }
   ],
   "source": [
    "max_ele(12,34,67,8)"
   ]
  },
  {
   "cell_type": "code",
   "execution_count": 29,
   "id": "576c9ff9-ab37-48dd-af08-42acb53e7659",
   "metadata": {},
   "outputs": [],
   "source": [
    "def minn(*data):\n",
    "  min_ele = data[0]\n",
    "  for i in data[1:]:\n",
    "    if i< min_ele:\n",
    "      min_ele = i\n",
    "  return min_ele"
   ]
  },
  {
   "cell_type": "code",
   "execution_count": 30,
   "id": "a6804451-f17d-4e82-8614-ed28fa90a9be",
   "metadata": {},
   "outputs": [
    {
     "data": {
      "text/plain": [
       "8"
      ]
     },
     "execution_count": 30,
     "metadata": {},
     "output_type": "execute_result"
    }
   ],
   "source": [
    "minn(376,246,354,8,667,468)"
   ]
  },
  {
   "cell_type": "code",
   "execution_count": null,
   "id": "f441e338-0976-43ac-bcf9-c585ea78ec31",
   "metadata": {},
   "outputs": [],
   "source": []
  },
  {
   "cell_type": "code",
   "execution_count": 31,
   "id": "0a5b06c7-02c6-40c3-8a9e-b86f4d3462a2",
   "metadata": {},
   "outputs": [],
   "source": [
    "company = ['ola','uber','rapido','indrive','adani','tata']\n",
    "\n",
    "# ['#OLA','#UBER','#RAPIDO']\n",
    "\n",
    "\n",
    "\n",
    "def add_hashtag(*company):\n",
    "  result = []\n",
    "  for i in company:\n",
    "    result.append('#'+i.upper())\n",
    "  return result\n"
   ]
  },
  {
   "cell_type": "code",
   "execution_count": 34,
   "id": "7551590f-3a9c-4f55-9594-e45a5da1642f",
   "metadata": {},
   "outputs": [
    {
     "data": {
      "text/plain": [
       "['#OLA', '#UBER', '#RAPIDO', '#INDRIVE', '#ADANI', '#TATA']"
      ]
     },
     "execution_count": 34,
     "metadata": {},
     "output_type": "execute_result"
    }
   ],
   "source": [
    "add_hashtag(*company)"
   ]
  },
  {
   "cell_type": "code",
   "execution_count": null,
   "id": "44fd5160-2cf1-4e53-877e-cb71e1ae8faa",
   "metadata": {},
   "outputs": [],
   "source": [
    "def store_record(name,age,sec,roll_no, "
   ]
  },
  {
   "cell_type": "code",
   "execution_count": null,
   "id": "6b3cbabb-676c-457d-a614-754bd2bf2e10",
   "metadata": {},
   "outputs": [],
   "source": []
  }
 ],
 "metadata": {
  "kernelspec": {
   "display_name": "Python 3 (ipykernel)",
   "language": "python",
   "name": "python3"
  },
  "language_info": {
   "codemirror_mode": {
    "name": "ipython",
    "version": 3
   },
   "file_extension": ".py",
   "mimetype": "text/x-python",
   "name": "python",
   "nbconvert_exporter": "python",
   "pygments_lexer": "ipython3",
   "version": "3.12.7"
  }
 },
 "nbformat": 4,
 "nbformat_minor": 5
}
