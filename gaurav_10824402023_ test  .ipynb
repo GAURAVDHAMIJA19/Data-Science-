{
 "cells": [
  {
   "cell_type": "code",
   "execution_count": 1,
   "id": "00388e6d-abf4-4536-8866-aac55619a195",
   "metadata": {},
   "outputs": [
    {
     "name": "stdout",
     "output_type": "stream",
     "text": [
      "h\n"
     ]
    }
   ],
   "source": [
    "#list is a collection of homogenous element of different datatype .list is enclosed with square b\n",
    "#bracket .list is mutable \n",
    "#tuple is collection of elements enclosed with rounded brackets .It is immutable which means  be changes \n",
    "  # cannot be changes \n",
    "#list=[1,2,3,4,'ram','True']\n",
    "#tuple(1,2,3,4,5,'hello')"
   ]
  },
  {
   "cell_type": "code",
   "execution_count": 6,
   "id": "20b67d82-f028-4e4e-9acc-bb06233d465a",
   "metadata": {},
   "outputs": [
    {
     "name": "stdin",
     "output_type": "stream",
     "text": [
      "Enter your age:  23\n"
     ]
    },
    {
     "name": "stdout",
     "output_type": "stream",
     "text": [
      "<class 'int'>\n"
     ]
    }
   ],
   "source": [
    "#ans 2 Input function takes the input from the user .it return the string return type\n",
    "#we can use typecastiong to convert in an integer \n",
    "age = int(input(\"Enter your age: \"))\n",
    "print(type(age)) \n"
   ]
  },
  {
   "cell_type": "code",
   "execution_count": 3,
   "id": "23263386-1da5-4a00-9acf-b7de0506526c",
   "metadata": {},
   "outputs": [
    {
     "name": "stdout",
     "output_type": "stream",
     "text": [
      "{'name': 'gaurav', 'age': 22}\n"
     ]
    }
   ],
   "source": [
    "# ans 3 python dictionary are used to store the data in keys value pairs.\n",
    "#here the keys are index and value are values.\n",
    "dict={'name':'gaurav','age':22,}\n",
    "print(dict)"
   ]
  },
  {
   "cell_type": "code",
   "execution_count": 5,
   "id": "1ab386df-0ae5-4d30-8c50-5cb048188f43",
   "metadata": {},
   "outputs": [
    {
     "name": "stdout",
     "output_type": "stream",
     "text": [
      "1\n",
      "2\n",
      "3\n",
      "4\n",
      "5\n"
     ]
    }
   ],
   "source": [
    "#ans 4 For loop is used to repeat a block of statements until the condition is met\n",
    "for i in range(1,6,1):\n",
    "    print(i)"
   ]
  },
  {
   "cell_type": "code",
   "execution_count": null,
   "id": "9013145b-7010-4aef-896d-2536bfc688b1",
   "metadata": {},
   "outputs": [],
   "source": [
    "#Exception handling is used to handle the errors dring the execution of a program\n",
    "try:\n",
    "    a = int(input(\"Enter  number: \"))\n",
    "    b = int(input(\"Enter  number: \"))\n",
    "    result = a / b\n",
    "    print(\"Result is:\", result)\n",
    "\n",
    "except ZeroDivisionError:\n",
    "    print(\" Error: Cannot divide by zero!\")\n",
    "\n",
    "\n",
    "\n",
    "finally:\n",
    "    print(\" hello\")"
   ]
  },
  {
   "cell_type": "code",
   "execution_count": null,
   "id": "2b25c2f6-150c-4ed8-a28d-c4ab4d8b4267",
   "metadata": {},
   "outputs": [],
   "source": [
    "#python modules is a file that contains functions and  methods"
   ]
  },
  {
   "cell_type": "code",
   "execution_count": null,
   "id": "7e74ae46-4889-4541-b6e5-1e8745990a48",
   "metadata": {},
   "outputs": [],
   "source": [
    "# import math is a module . this module perform mathmatical calculations\n",
    "# from math import sqrt - here math is a module and sqrt is a function "
   ]
  },
  {
   "cell_type": "code",
   "execution_count": 8,
   "id": "f0ba1523-d3c1-4bae-b26b-06fb527e5dd1",
   "metadata": {},
   "outputs": [
    {
     "name": "stdout",
     "output_type": "stream",
     "text": [
      "[0, 4, 8, 12, 16]\n"
     ]
    }
   ],
   "source": [
    "# ans 8 list comprehenion is a one line code \n",
    "a = [x * 2 for x in range(0,10,1) if x % 2 == 0]\n",
    "print(a)"
   ]
  },
  {
   "cell_type": "code",
   "execution_count": 10,
   "id": "7a1ce32e-d863-4d5d-9c26-d1d162640be8",
   "metadata": {},
   "outputs": [],
   "source": [
    "def calculate_area(r):\n",
    "    area=3.14*r**2\n",
    "    return area\n",
    "    "
   ]
  },
  {
   "cell_type": "code",
   "execution_count": 11,
   "id": "e33f1827-a9eb-4a5d-91de-8d07c64766ab",
   "metadata": {},
   "outputs": [
    {
     "data": {
      "text/plain": [
       "28.26"
      ]
     },
     "execution_count": 11,
     "metadata": {},
     "output_type": "execute_result"
    }
   ],
   "source": [
    "calculate_area(3)"
   ]
  },
  {
   "cell_type": "code",
   "execution_count": 13,
   "id": "260427b7-60fe-456a-a0c7-b609c06084b7",
   "metadata": {},
   "outputs": [
    {
     "name": "stdin",
     "output_type": "stream",
     "text": [
      "enter your name gaurav\n",
      "enter your age 12\n"
     ]
    },
    {
     "name": "stdout",
     "output_type": "stream",
     "text": [
      "Hello gaurav, you are 12 years old\n"
     ]
    }
   ],
   "source": [
    "# ans 10 \n",
    "name = input(\"enter your name\")\n",
    "age = input(\"enter your age\")\n",
    "print(f\"Hello {name}, you are {age} years old\")"
   ]
  },
  {
   "cell_type": "code",
   "execution_count": 14,
   "id": "9de7df69-93b3-4d4d-a5e1-3406cf427b48",
   "metadata": {},
   "outputs": [
    {
     "name": "stdout",
     "output_type": "stream",
     "text": [
      "0 apple\n",
      "1 banana\n",
      "2 grapes\n",
      "3 papaya\n",
      "4 orange\n"
     ]
    }
   ],
   "source": [
    "list=['apple','banana','grapes','papaya','orange']\n",
    "for index_no,name in enumerate(list):\n",
    "    print(index_no,name)\n"
   ]
  },
  {
   "cell_type": "code",
   "execution_count": 17,
   "id": "8bedd8c3-fe3f-41a9-8366-0534e1edff5c",
   "metadata": {},
   "outputs": [],
   "source": [
    "#ans 12\n",
    "def grade_calculator():\n",
    "    marks=int(input('enter a marks'))\n",
    "    if marks>=90 and marks<=100:\n",
    "        print(\"A\")\n",
    "    elif marks>=80 and marks<=89:\n",
    "        print(\"B\")\n",
    "    elif marks>=70 and marks<=79:\n",
    "        print(\"C\")\n",
    "    elif  marks>=60 and marks<=69:\n",
    "        print(\"D\")\n",
    "    else:\n",
    "        print(\"F\")\n",
    "        "
   ]
  },
  {
   "cell_type": "code",
   "execution_count": 18,
   "id": "f7e27a49-96ac-499c-b609-0c2cc989aaec",
   "metadata": {},
   "outputs": [
    {
     "name": "stdin",
     "output_type": "stream",
     "text": [
      "enter a marks 56\n"
     ]
    },
    {
     "name": "stdout",
     "output_type": "stream",
     "text": [
      "F\n"
     ]
    }
   ],
   "source": [
    "grade_calculator()"
   ]
  },
  {
   "cell_type": "code",
   "execution_count": 24,
   "id": "d1f05178-8d02-4ca7-a0f8-1dff94d4ef66",
   "metadata": {},
   "outputs": [],
   "source": [
    "#ans 14 \n",
    "class Bank:\n",
    "    def __init__(self, name, accountnumber, balance):\n",
    "        self.name = name\n",
    "        self.account_number = account_number\n",
    "        self.balance = balance\n",
    "\n",
    "    def deposit(self, amount):\n",
    "        self.balance =self.balance + amount\n",
    "        print(\"Deposited \", amount)\n",
    "\n",
    "    def withdraw(self, amount):\n",
    "        if amount <= self.balance:\n",
    "            self.balance = self.balance - amount\n",
    "            print(\"Withdraw \", amount)\n",
    "        else:\n",
    "            print(\" Insufficient balance\")\n",
    "\n",
    "    \n",
    "    def current_balance(self):\n",
    "        print(\"Balance:\", self.balance)\n"
   ]
  },
  {
   "cell_type": "code",
   "execution_count": 26,
   "id": "73cbd9f7-fc88-4027-b9ff-19720b0c6f6c",
   "metadata": {},
   "outputs": [
    {
     "name": "stdout",
     "output_type": "stream",
     "text": [
      "Deposited  2000\n"
     ]
    }
   ],
   "source": [
    "aman=Bank('gaurav',101,5000)\n",
    "aman.deposit(2000)"
   ]
  },
  {
   "cell_type": "code",
   "execution_count": 29,
   "id": "aa7524e0-5656-49ce-8247-b6bca27e38cd",
   "metadata": {},
   "outputs": [],
   "source": [
    "#ans 15 \n",
    "def check_prime(n):\n",
    "    for i in range(2,n):\n",
    "        if n%i==0:\n",
    "            return 'not a prime number'\n",
    "            \n",
    "        else:\n",
    "            return 'prime number'\n",
    "    "
   ]
  },
  {
   "cell_type": "code",
   "execution_count": 31,
   "id": "63b6a65c-1eb9-4066-a0ef-6bfdd4039399",
   "metadata": {},
   "outputs": [
    {
     "data": {
      "text/plain": [
       "'prime number'"
      ]
     },
     "execution_count": 31,
     "metadata": {},
     "output_type": "execute_result"
    }
   ],
   "source": [
    "check_prime(3)"
   ]
  },
  {
   "cell_type": "code",
   "execution_count": null,
   "id": "bffe71ba-9e3a-41b5-b85f-98524fc8a85f",
   "metadata": {},
   "outputs": [],
   "source": []
  }
 ],
 "metadata": {
  "kernelspec": {
   "display_name": "Python 3 (ipykernel)",
   "language": "python",
   "name": "python3"
  },
  "language_info": {
   "codemirror_mode": {
    "name": "ipython",
    "version": 3
   },
   "file_extension": ".py",
   "mimetype": "text/x-python",
   "name": "python",
   "nbconvert_exporter": "python",
   "pygments_lexer": "ipython3",
   "version": "3.12.7"
  }
 },
 "nbformat": 4,
 "nbformat_minor": 5
}
