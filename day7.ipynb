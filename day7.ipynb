{
 "cells": [
  {
   "cell_type": "code",
   "execution_count": 1,
   "id": "eeea0de8-f450-4d1e-8e21-0636c217b9ef",
   "metadata": {},
   "outputs": [
    {
     "name": "stdout",
     "output_type": "stream",
     "text": [
      "h\n"
     ]
    }
   ],
   "source": [
    "print('h')"
   ]
  },
  {
   "cell_type": "code",
   "execution_count": 2,
   "id": "3ac74b62-ec24-4edf-9d7b-42eba44f3962",
   "metadata": {},
   "outputs": [
    {
     "name": "stdout",
     "output_type": "stream",
     "text": [
      "3\n"
     ]
    }
   ],
   "source": [
    "print(3)"
   ]
  },
  {
   "cell_type": "markdown",
   "id": "21982208-871e-41ea-b805-b2be2f406644",
   "metadata": {},
   "source": [
    "Inheritance"
   ]
  },
  {
   "cell_type": "code",
   "execution_count": 5,
   "id": "32cf3654-90da-4900-acd0-0edb18541aba",
   "metadata": {},
   "outputs": [],
   "source": [
    "class A:\n",
    "    def I():\n",
    "        print(\"i am A\")\n",
    "\n",
    "class B:\n",
    "    def F():\n",
    "        print(\"i am B\")\n",
    "    "
   ]
  },
  {
   "cell_type": "code",
   "execution_count": 6,
   "id": "d537f03c-b81e-43fd-89c5-c12f21fd70d5",
   "metadata": {},
   "outputs": [],
   "source": [
    "ob_a=A()\n",
    "ob_b=B()"
   ]
  },
  {
   "cell_type": "code",
   "execution_count": 7,
   "id": "545b4abc-4025-405a-b25a-bd74d00a1d46",
   "metadata": {},
   "outputs": [],
   "source": [
    "class BMW: #base class ,main class parent class super class \n",
    "    def engine(self):\n",
    "        print('super turbo engine fast speed')\n",
    "\n",
    "class Audi(BMW): #child class , sub class , \n",
    "    def auto_pilot(self):\n",
    "        print('can run the auto pilot')\n",
    "        \n",
    "    \n",
    "    \n"
   ]
  },
  {
   "cell_type": "code",
   "execution_count": 8,
   "id": "155517e3-40a0-4efa-b285-670d7b4cb594",
   "metadata": {},
   "outputs": [],
   "source": [
    "a=Audi()"
   ]
  },
  {
   "cell_type": "code",
   "execution_count": 9,
   "id": "c858e8c5-26a7-4165-bed2-53a3764ee29d",
   "metadata": {},
   "outputs": [
    {
     "name": "stdout",
     "output_type": "stream",
     "text": [
      "super turbo engine fast speed\n"
     ]
    }
   ],
   "source": [
    "a.engine()"
   ]
  },
  {
   "cell_type": "code",
   "execution_count": null,
   "id": "7484d1c1-10c4-4ddd-bf54-b6eabcbc8be7",
   "metadata": {},
   "outputs": [],
   "source": [
    "# multiple class  2 base class 1 child class "
   ]
  },
  {
   "cell_type": "code",
   "execution_count": 27,
   "id": "74ea1900-8bbe-4059-aa5c-e5f473b67e7e",
   "metadata": {},
   "outputs": [],
   "source": [
    "\n",
    "class Daily_object:\n",
    "    def phone_case(self):\n",
    "        print('build strong case ')\n",
    "class JBL:\n",
    "    def speaker(self):\n",
    "        print(\"high quality sound speaker\")\n",
    "class Samsung:\n",
    "    def Screen_display(self):\n",
    "        print('4k hd display')\n",
    "class Nvidia:\n",
    "    def motherboard(self):\n",
    "        print('fast motherboard')\n",
    "class sony:\n",
    "    def camera(self):\n",
    "        print('4k camera')\n",
    "class Lava:\n",
    "    def charger(self):\n",
    "        print(\"superfast charger\")\n",
    "class oneplus:\n",
    "    def charger(self):\n",
    "        print('oneplus charger')\n",
    "        \n",
    "class Mobile(Daily_object,JBL,Samsung,sony,oneplus,Lava):\n",
    "    def __init__(self):\n",
    "        print('phone object created successsfully')\n",
    "    def charger(self):\n",
    "        print('actual charger from mobile')\n",
    "    \n",
    "    \n",
    "    "
   ]
  },
  {
   "cell_type": "code",
   "execution_count": 28,
   "id": "f42de6d1-c211-45f5-9226-1f95d39c2956",
   "metadata": {},
   "outputs": [
    {
     "name": "stdout",
     "output_type": "stream",
     "text": [
      "phone object created successsfully\n"
     ]
    }
   ],
   "source": [
    "nothing= Mobile()"
   ]
  },
  {
   "cell_type": "code",
   "execution_count": 29,
   "id": "16240549-a878-4a0e-80d3-90e5c0aea76a",
   "metadata": {},
   "outputs": [
    {
     "name": "stdout",
     "output_type": "stream",
     "text": [
      "build strong case \n"
     ]
    }
   ],
   "source": [
    "nothing.phone_case()"
   ]
  },
  {
   "cell_type": "code",
   "execution_count": 30,
   "id": "161f470b-5551-41b8-a907-bebf326c82f9",
   "metadata": {},
   "outputs": [
    {
     "name": "stdout",
     "output_type": "stream",
     "text": [
      "actual charger from mobile\n"
     ]
    }
   ],
   "source": [
    "nothing.charger()"
   ]
  },
  {
   "cell_type": "code",
   "execution_count": null,
   "id": "214d25ab-4330-4443-9ab2-c21e46747fa1",
   "metadata": {},
   "outputs": [],
   "source": [
    "#multi level "
   ]
  },
  {
   "cell_type": "code",
   "execution_count": 42,
   "id": "a8aae547-f811-46bd-a7e8-e719548e58e6",
   "metadata": {},
   "outputs": [],
   "source": [
    "class Grandfather: #parent class \n",
    "    def land_property(self):\n",
    "        print('land property')\n",
    "class Parent(Grandfather):#sub class\n",
    "    def bank_balance(self):\n",
    "        print('big money , huge Bank Balance')\n",
    "class Son(Parent): #sub class \n",
    "    def political_power(self):\n",
    "        print('political power')\n",
    "class Grandson(Son): #sub class \n",
    "    def mind(self):\n",
    "        print('mind for self study')\n",
    "class Friend(Grandson):\n",
    "    def __init__(self):\n",
    "        print('nothing')\n",
    "     "
   ]
  },
  {
   "cell_type": "code",
   "execution_count": 43,
   "id": "0df30872-6476-4bae-a9dc-5d3447ee91c4",
   "metadata": {},
   "outputs": [
    {
     "name": "stdout",
     "output_type": "stream",
     "text": [
      "d\n"
     ]
    }
   ],
   "source": [
    "aman=Grandson();\n",
    "print('d')"
   ]
  },
  {
   "cell_type": "code",
   "execution_count": 44,
   "id": "59c18f4e-dbf3-4ca5-aaaf-4138ad77692d",
   "metadata": {},
   "outputs": [
    {
     "name": "stdout",
     "output_type": "stream",
     "text": [
      "nothing\n",
      "mind for self study\n"
     ]
    }
   ],
   "source": [
    "karan=Friend()\n",
    "karan.mind()"
   ]
  },
  {
   "cell_type": "code",
   "execution_count": 48,
   "id": "4a86162f-9fe3-4f35-a129-6e71c23cf13e",
   "metadata": {},
   "outputs": [],
   "source": [
    " class Hybrid(Mobile,Friend,Audi):\n",
    "     \n",
    "     def __init__(self):\n",
    "         print('this is a hybrid class')\n",
    "     def inf0(self):\n",
    "         print(\"It can call any methods\")\n",
    "    "
   ]
  },
  {
   "cell_type": "code",
   "execution_count": 49,
   "id": "765f0814-1ad7-4f0a-b60d-edf3491731bf",
   "metadata": {},
   "outputs": [
    {
     "name": "stdout",
     "output_type": "stream",
     "text": [
      "this is a hybrid class\n"
     ]
    }
   ],
   "source": [
    "ob=Hybrid()"
   ]
  },
  {
   "cell_type": "code",
   "execution_count": 51,
   "id": "6007602b-ede8-47a6-bdd8-643a2f5430ee",
   "metadata": {},
   "outputs": [],
   "source": [
    "class UGC:\n",
    "    def __init__(self):\n",
    "        print('grant permission')\n",
    "class DU(UGC):\n",
    "    def multiple_colleges(self):\n",
    "        print('list of colleges')\n",
    "class IP(UGC):\n",
    "    def multiple_colleges(self):\n",
    "        print('list of colleges')\n",
    "class DTU(UGC):\n",
    "    def multiple_colleges(self):\n",
    "        print(\"list of colleges\")\n",
    "class BHU(UGC):\n",
    "    def multiple_colleges(self):\n",
    "        print('list of colleges')\n",
    "\n",
    "    \n",
    "    "
   ]
  },
  {
   "cell_type": "code",
   "execution_count": 52,
   "id": "d10387d0-237e-4357-9d44-daad3f274412",
   "metadata": {},
   "outputs": [
    {
     "name": "stdout",
     "output_type": "stream",
     "text": [
      "grant permission\n",
      "1\n"
     ]
    }
   ],
   "source": [
    "A=DU()\n",
    "print(1)"
   ]
  },
  {
   "cell_type": "code",
   "execution_count": 53,
   "id": "b1889c59-d488-4e90-83ab-1e3382c5a009",
   "metadata": {},
   "outputs": [
    {
     "name": "stdout",
     "output_type": "stream",
     "text": [
      "list of colleges\n"
     ]
    }
   ],
   "source": [
    "A.multiple_colleges()"
   ]
  },
  {
   "cell_type": "code",
   "execution_count": null,
   "id": "bba5cfe4-5aa3-4bcc-b658-d2508401808a",
   "metadata": {},
   "outputs": [],
   "source": [
    "#polymorphism"
   ]
  },
  {
   "cell_type": "code",
   "execution_count": 54,
   "id": "b25e112d-34a5-41d4-87bb-f30c97c22671",
   "metadata": {},
   "outputs": [
    {
     "ename": "TypeError",
     "evalue": "object of type 'int' has no len()",
     "output_type": "error",
     "traceback": [
      "\u001b[1;31m---------------------------------------------------------------------------\u001b[0m",
      "\u001b[1;31mTypeError\u001b[0m                                 Traceback (most recent call last)",
      "Cell \u001b[1;32mIn[54], line 2\u001b[0m\n\u001b[0;32m      1\u001b[0m a\u001b[38;5;241m=\u001b[39m\u001b[38;5;241m545\u001b[39m\n\u001b[1;32m----> 2\u001b[0m \u001b[38;5;28mlen\u001b[39m(a)\n",
      "\u001b[1;31mTypeError\u001b[0m: object of type 'int' has no len()"
     ]
    }
   ],
   "source": [
    "a=545\n",
    "len(a)"
   ]
  },
  {
   "cell_type": "code",
   "execution_count": 55,
   "id": "63457ad3-e2ef-42d7-8dc6-d1ef11cb01da",
   "metadata": {},
   "outputs": [
    {
     "data": {
      "text/plain": [
       "4"
      ]
     },
     "execution_count": 55,
     "metadata": {},
     "output_type": "execute_result"
    }
   ],
   "source": [
    "a=[1,2,3,4]\n",
    "len(a)"
   ]
  },
  {
   "cell_type": "code",
   "execution_count": 63,
   "id": "773f0e79-cf9e-442b-859a-d6f3e0630d89",
   "metadata": {},
   "outputs": [
    {
     "name": "stdout",
     "output_type": "stream",
     "text": [
      "Max speed 200 km/hr\n",
      "f1car speed is : None\n",
      "Max speed 250 km/hr\n",
      "f1car speed is : None\n",
      "Max speed 300 km/hr\n",
      "f1car speed is : None\n"
     ]
    }
   ],
   "source": [
    "class Car:\n",
    "  def speed(self):\n",
    "    print('Max speed 200 km/hr')\n",
    "\n",
    "  def auto_pilot(self):\n",
    "    print('It supports Auto Pilot Mode!!')\n",
    "\n",
    "  def info(self):\n",
    "    print('This is just a car object')\n",
    "\n",
    "\n",
    "class Bmw(Car):\n",
    "  def speed(self):\n",
    "    print('Max speed 250 km/hr')\n",
    "\n",
    "  def info(self):\n",
    "    print('A BMW car object')\n",
    "\n",
    "\n",
    "\n",
    "class Audi(Car):\n",
    "  def speed(self):\n",
    "    print('Max speed 300 km/hr')\n",
    "\n",
    "  def info(self):\n",
    "    print('Audi car🏎️')\n",
    "\n",
    "\n",
    "\n",
    "\n",
    "\n",
    "for i in [Car,Bmw,Audi]:\n",
    "  f1 = i()\n",
    "  print('f1car speed is :',f1.speed())"
   ]
  },
  {
   "cell_type": "code",
   "execution_count": 60,
   "id": "d7bc9937-aa10-41e0-b458-cba67bb1a323",
   "metadata": {},
   "outputs": [
    {
     "name": "stdout",
     "output_type": "stream",
     "text": [
      "Max speed 300 km/hr\n"
     ]
    }
   ],
   "source": [
    "f1.speed()"
   ]
  },
  {
   "cell_type": "code",
   "execution_count": 62,
   "id": "fba5191a-27a0-4813-b05f-90f621509af6",
   "metadata": {},
   "outputs": [
    {
     "name": "stdout",
     "output_type": "stream",
     "text": [
      "Max speed 300 km/hr\n"
     ]
    }
   ],
   "source": [
    "f1.speed()"
   ]
  },
  {
   "cell_type": "code",
   "execution_count": 1,
   "id": "b6985134-7a04-409e-90ee-b7b22fe6b20d",
   "metadata": {},
   "outputs": [
    {
     "name": "stdout",
     "output_type": "stream",
     "text": [
      "Hello Komal,how are you??\n",
      "Your Address is Delhi\n"
     ]
    }
   ],
   "source": [
    "class IITM:\n",
    "\n",
    "  def intro(self):\n",
    "    print('Hello Candidates!!')\n",
    "\n",
    "  def intro(self,name):\n",
    "    print(f'Hello {name},how are you??')\n",
    "\n",
    "  def intro(self,name,address):\n",
    "    print(f'Hello {name},how are you??')\n",
    "    print(f'Your Address is {address}')\n",
    "\n",
    "a = IITM()\n",
    "\n",
    "a.intro('Komal','Delhi')"
   ]
  },
  {
   "cell_type": "code",
   "execution_count": null,
   "id": "a8c4bc4a-2ded-4e6c-b89e-5e67a79db8f4",
   "metadata": {},
   "outputs": [],
   "source": [
    "# python does not support function overloading \n",
    "# only the last function  is executed "
   ]
  },
  {
   "cell_type": "code",
   "execution_count": 13,
   "id": "9cd156eb-3e50-4462-9f7b-6d5220341bbc",
   "metadata": {},
   "outputs": [],
   "source": [
    "class IITM:\n",
    "\n",
    "  def intro(self,name = None,address = None):\n",
    "    if (name == None) and (address == None):\n",
    "      print('Hello Candidates!!')\n",
    "\n",
    "    elif (name != None) and (address == None):\n",
    "      print(f'Hello {name},how are you??')\n",
    "\n",
    "    elif (name != None) and  (address != None):\n",
    "      print(f'Hello {name},how are you??')\n",
    "      print(f'Your Address is {address}')\n",
    "\n",
    "    else:\n",
    "      print('Hello Buddy!!')\n",
    "        "
   ]
  },
  {
   "cell_type": "code",
   "execution_count": 14,
   "id": "042220f3-d123-4128-9842-2db520a878ef",
   "metadata": {},
   "outputs": [
    {
     "name": "stdout",
     "output_type": "stream",
     "text": [
      "d\n"
     ]
    }
   ],
   "source": [
    "a=IITM()\n",
    "print('d')"
   ]
  },
  {
   "cell_type": "code",
   "execution_count": 15,
   "id": "221d33c2-89cb-4cb6-8452-324c79cc6eba",
   "metadata": {},
   "outputs": [
    {
     "name": "stdout",
     "output_type": "stream",
     "text": [
      "Hello Candidates!!\n"
     ]
    }
   ],
   "source": [
    "a.intro()"
   ]
  },
  {
   "cell_type": "code",
   "execution_count": 16,
   "id": "4bc51aff-6a0c-4a11-a690-07536639dac3",
   "metadata": {},
   "outputs": [
    {
     "name": "stdout",
     "output_type": "stream",
     "text": [
      "Hello gaurav,how are you??\n"
     ]
    }
   ],
   "source": [
    "a.intro('gaurav')"
   ]
  },
  {
   "cell_type": "code",
   "execution_count": 19,
   "id": "66b16f63-fba6-40e5-b18c-15d5d7b775d5",
   "metadata": {},
   "outputs": [
    {
     "name": "stdout",
     "output_type": "stream",
     "text": [
      "Hello Buddy!!\n"
     ]
    }
   ],
   "source": [
    "a.intro(address='faridabad')"
   ]
  },
  {
   "cell_type": "code",
   "execution_count": 20,
   "id": "1e361ead-bc38-42a2-90e1-5ccddbb74ea5",
   "metadata": {},
   "outputs": [],
   "source": [
    "# ABSTRACTION IS JUST AN IDEA \n",
    "# NOT A PHYSICAL OBJECT \n",
    "#` ABSTRACTION- PROJECT MANAGEMENT "
   ]
  },
  {
   "cell_type": "raw",
   "id": "8ff8fc8e-a4e0-46ac-b022-39988dc3beab",
   "metadata": {},
   "source": [
    "from \n"
   ]
  },
  {
   "cell_type": "code",
   "execution_count": 24,
   "id": "26f782ae-528d-4725-aa5d-cb743d978224",
   "metadata": {},
   "outputs": [
    {
     "ename": "TypeError",
     "evalue": "Can't instantiate abstract class Website without an implementation for abstract methods 'login', 'logout'",
     "output_type": "error",
     "traceback": [
      "\u001b[1;31m---------------------------------------------------------------------------\u001b[0m",
      "\u001b[1;31mTypeError\u001b[0m                                 Traceback (most recent call last)",
      "Cell \u001b[1;32mIn[24], line 9\u001b[0m\n\u001b[0;32m      6\u001b[0m     \u001b[38;5;129m@abstractmethod\u001b[39m\n\u001b[0;32m      7\u001b[0m     \u001b[38;5;28;01mdef\u001b[39;00m \u001b[38;5;21mlogout\u001b[39m(\u001b[38;5;28mself\u001b[39m):\n\u001b[0;32m      8\u001b[0m         \u001b[38;5;28mprint\u001b[39m(\u001b[38;5;124m'\u001b[39m\u001b[38;5;124ma logout method\u001b[39m\u001b[38;5;124m'\u001b[39m)\n\u001b[1;32m----> 9\u001b[0m asus\u001b[38;5;241m=\u001b[39mWebsite()\n\u001b[0;32m     10\u001b[0m \u001b[38;5;28mprint\u001b[39m(\u001b[38;5;124m'\u001b[39m\u001b[38;5;124mdone\u001b[39m\u001b[38;5;124m'\u001b[39m)\n",
      "\u001b[1;31mTypeError\u001b[0m: Can't instantiate abstract class Website without an implementation for abstract methods 'login', 'logout'"
     ]
    }
   ],
   "source": [
    "from abc import ABC, abstractmethod\n",
    "class Website(ABC):\n",
    "    @abstractmethod\n",
    "    def login(self):\n",
    "        print('this is a login  method')\n",
    "    @abstractmethod\n",
    "    def logout(self):\n",
    "        print('a logout method')\n",
    "asus=Website()\n",
    "print('done')\n",
    "    "
   ]
  },
  {
   "cell_type": "code",
   "execution_count": 25,
   "id": "4d34352c-3c77-438f-a8e7-03174b237a76",
   "metadata": {},
   "outputs": [],
   "source": [
    "class Nakul(Website):\n",
    "\n",
    "  def signup(self):\n",
    "    print('user can Signup!!')\n",
    "\n",
    "  def login(self):\n",
    "    print('This is a Login  Form')\n",
    "\n",
    "  def logout(self):\n",
    "    print('Use can logut')\n",
    "\n",
    "google = Nakul()\n",
    "\n",
    "\n",
    "    "
   ]
  },
  {
   "cell_type": "code",
   "execution_count": 26,
   "id": "73b5d557-e002-4193-bac8-83b6c5eb48a7",
   "metadata": {},
   "outputs": [
    {
     "name": "stdout",
     "output_type": "stream",
     "text": [
      "user can Signup!!\n"
     ]
    }
   ],
   "source": [
    "google.signup()"
   ]
  },
  {
   "cell_type": "code",
   "execution_count": null,
   "id": "b08e235d-1112-46e1-8294-0fa76109cae6",
   "metadata": {},
   "outputs": [],
   "source": []
  }
 ],
 "metadata": {
  "kernelspec": {
   "display_name": "Python 3 (ipykernel)",
   "language": "python",
   "name": "python3"
  },
  "language_info": {
   "codemirror_mode": {
    "name": "ipython",
    "version": 3
   },
   "file_extension": ".py",
   "mimetype": "text/x-python",
   "name": "python",
   "nbconvert_exporter": "python",
   "pygments_lexer": "ipython3",
   "version": "3.12.7"
  }
 },
 "nbformat": 4,
 "nbformat_minor": 5
}
