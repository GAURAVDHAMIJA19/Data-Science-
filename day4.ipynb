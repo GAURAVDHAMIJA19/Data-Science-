{
 "cells": [
  {
   "cell_type": "code",
   "execution_count": 1,
   "id": "82aa9a4a-292e-4def-8f5a-1fc277bc57d8",
   "metadata": {},
   "outputs": [
    {
     "name": "stdout",
     "output_type": "stream",
     "text": [
      "hello\n"
     ]
    }
   ],
   "source": [
    "print('hello')"
   ]
  },
  {
   "cell_type": "code",
   "execution_count": 1,
   "id": "d2bf5e08-bdfb-4f2e-98a5-c7f9cad28314",
   "metadata": {},
   "outputs": [
    {
     "name": "stdout",
     "output_type": "stream",
     "text": [
      "done\n"
     ]
    }
   ],
   "source": [
    "f=open('Day_4.txt',mode='w')\n",
    "f.write('this is day4')\n",
    "f.close()\n",
    "print('done')"
   ]
  },
  {
   "cell_type": "code",
   "execution_count": 2,
   "id": "df164475-c2d6-40ac-91cf-895b868f45dd",
   "metadata": {},
   "outputs": [
    {
     "name": "stdout",
     "output_type": "stream",
     "text": [
      "Collecting googlesearch-python\n",
      "  Downloading googlesearch_python-1.3.0-py3-none-any.whl.metadata (3.4 kB)\n",
      "Requirement already satisfied: beautifulsoup4>=4.9 in c:\\users\\prerna dhamija\\anaconda3\\lib\\site-packages (from googlesearch-python) (4.12.3)\n",
      "Requirement already satisfied: requests>=2.20 in c:\\users\\prerna dhamija\\anaconda3\\lib\\site-packages (from googlesearch-python) (2.32.3)\n",
      "Requirement already satisfied: soupsieve>1.2 in c:\\users\\prerna dhamija\\anaconda3\\lib\\site-packages (from beautifulsoup4>=4.9->googlesearch-python) (2.5)\n",
      "Requirement already satisfied: charset-normalizer<4,>=2 in c:\\users\\prerna dhamija\\anaconda3\\lib\\site-packages (from requests>=2.20->googlesearch-python) (3.3.2)\n",
      "Requirement already satisfied: idna<4,>=2.5 in c:\\users\\prerna dhamija\\anaconda3\\lib\\site-packages (from requests>=2.20->googlesearch-python) (3.7)\n",
      "Requirement already satisfied: urllib3<3,>=1.21.1 in c:\\users\\prerna dhamija\\anaconda3\\lib\\site-packages (from requests>=2.20->googlesearch-python) (2.2.3)\n",
      "Requirement already satisfied: certifi>=2017.4.17 in c:\\users\\prerna dhamija\\anaconda3\\lib\\site-packages (from requests>=2.20->googlesearch-python) (2025.4.26)\n",
      "Downloading googlesearch_python-1.3.0-py3-none-any.whl (5.6 kB)\n",
      "Installing collected packages: googlesearch-python\n",
      "Successfully installed googlesearch-python-1.3.0\n",
      "Note: you may need to restart the kernel to use updated packages.\n"
     ]
    }
   ],
   "source": [
    "pip install googlesearch-python"
   ]
  },
  {
   "cell_type": "code",
   "execution_count": 6,
   "id": "03ebdf36-1592-4aed-a515-7300e70d13ff",
   "metadata": {},
   "outputs": [
    {
     "data": {
      "text/plain": [
       "['https://www.ibm.com/think/topics/data-science',\n",
       " 'https://en.wikipedia.org/wiki/Data_science',\n",
       " 'https://www.coursera.org/browse/data-science',\n",
       " 'https://www.w3schools.com/datascience/',\n",
       " 'https://www.youtube.com/watch?v=OivTPt5LQh0',\n",
       " 'https://aws.amazon.com/what-is/data-science/',\n",
       " 'https://www.geeksforgeeks.org/data-science/data-science/',\n",
       " 'https://ischoolonline.berkeley.edu/data-science/what-is-data-science/',\n",
       " 'https://www.codecademy.com/catalog/subject/data-science',\n",
       " 'https://builtin.com/data-science']"
      ]
     },
     "execution_count": 6,
     "metadata": {},
     "output_type": "execute_result"
    }
   ],
   "source": [
    "from googlesearch import search\n",
    "list(search('Data Science',num_results=10))"
   ]
  },
  {
   "cell_type": "code",
   "execution_count": 8,
   "id": "33bce34d-0ee0-4f8e-8c06-467af0c72b0b",
   "metadata": {},
   "outputs": [
    {
     "name": "stdout",
     "output_type": "stream",
     "text": [
      "Done\n"
     ]
    }
   ],
   "source": [
    "from googlesearch import search\n",
    "data = search('IITM',num_results=10)\n",
    "\n",
    "all_data = []\n",
    "\n",
    "for i in data:\n",
    "  all_data.append(i+'/n')\n",
    "\n",
    "file = open('Data Science.txt',mode = 'w')\n",
    "file.writelines(all_data)\n",
    "file.close()\n",
    "print('Done')"
   ]
  },
  {
   "cell_type": "code",
   "execution_count": 8,
   "id": "6c5edd2d-b2f0-49f1-8533-357aa4ee9927",
   "metadata": {},
   "outputs": [
    {
     "name": "stdout",
     "output_type": "stream",
     "text": [
      "Done\n"
     ]
    }
   ],
   "source": [
    "from googlesearch import search\n",
    "\n",
    "title = 'Free Python Complete Tutorial PDF'\n",
    "\n",
    "data = search(title,num_results=10)\n",
    "\n",
    "all_data = []\n",
    "\n",
    "for i in data:\n",
    "  all_data.append(i+'\\n')\n",
    "\n",
    "file = open(f'{title}.txt',mode = 'w')\n",
    "file.writelines(all_data)\n",
    "file.close()\n",
    "print('Done')"
   ]
  },
  {
   "cell_type": "code",
   "execution_count": null,
   "id": "88aca098-c9e4-4ce8-8075-ebfe0ed48b1a",
   "metadata": {},
   "outputs": [],
   "source": []
  },
  {
   "cell_type": "code",
   "execution_count": 16,
   "id": "ef30a03d-7eba-495a-95d4-da5816843d71",
   "metadata": {},
   "outputs": [
    {
     "ename": "FileExistsError",
     "evalue": "[Errno 17] File exists: 'AI ML Complete Tutorial PDF.txt'",
     "output_type": "error",
     "traceback": [
      "\u001b[1;31m---------------------------------------------------------------------------\u001b[0m",
      "\u001b[1;31mFileExistsError\u001b[0m                           Traceback (most recent call last)",
      "Cell \u001b[1;32mIn[16], line 15\u001b[0m\n\u001b[0;32m     11\u001b[0m   all_data\u001b[38;5;241m.\u001b[39mappend(i\u001b[38;5;241m+\u001b[39m\u001b[38;5;124m'\u001b[39m\u001b[38;5;130;01m\\n\u001b[39;00m\u001b[38;5;124m'\u001b[39m)\n\u001b[0;32m     13\u001b[0m \u001b[38;5;66;03m# Mode =\u001b[39;00m\n\u001b[1;32m---> 15\u001b[0m file \u001b[38;5;241m=\u001b[39m \u001b[38;5;28mopen\u001b[39m(\u001b[38;5;124mf\u001b[39m\u001b[38;5;124m'\u001b[39m\u001b[38;5;132;01m{\u001b[39;00mtitle\u001b[38;5;132;01m}\u001b[39;00m\u001b[38;5;124m.txt\u001b[39m\u001b[38;5;124m'\u001b[39m,mode \u001b[38;5;241m=\u001b[39m \u001b[38;5;124m'\u001b[39m\u001b[38;5;124mx\u001b[39m\u001b[38;5;124m'\u001b[39m)\n\u001b[0;32m     17\u001b[0m file\u001b[38;5;241m.\u001b[39mwritelines(all_data)\n\u001b[0;32m     18\u001b[0m file\u001b[38;5;241m.\u001b[39mclose()\n",
      "File \u001b[1;32m~\\anaconda3\\Lib\\site-packages\\IPython\\core\\interactiveshell.py:324\u001b[0m, in \u001b[0;36m_modified_open\u001b[1;34m(file, *args, **kwargs)\u001b[0m\n\u001b[0;32m    317\u001b[0m \u001b[38;5;28;01mif\u001b[39;00m file \u001b[38;5;129;01min\u001b[39;00m {\u001b[38;5;241m0\u001b[39m, \u001b[38;5;241m1\u001b[39m, \u001b[38;5;241m2\u001b[39m}:\n\u001b[0;32m    318\u001b[0m     \u001b[38;5;28;01mraise\u001b[39;00m \u001b[38;5;167;01mValueError\u001b[39;00m(\n\u001b[0;32m    319\u001b[0m         \u001b[38;5;124mf\u001b[39m\u001b[38;5;124m\"\u001b[39m\u001b[38;5;124mIPython won\u001b[39m\u001b[38;5;124m'\u001b[39m\u001b[38;5;124mt let you open fd=\u001b[39m\u001b[38;5;132;01m{\u001b[39;00mfile\u001b[38;5;132;01m}\u001b[39;00m\u001b[38;5;124m by default \u001b[39m\u001b[38;5;124m\"\u001b[39m\n\u001b[0;32m    320\u001b[0m         \u001b[38;5;124m\"\u001b[39m\u001b[38;5;124mas it is likely to crash IPython. If you know what you are doing, \u001b[39m\u001b[38;5;124m\"\u001b[39m\n\u001b[0;32m    321\u001b[0m         \u001b[38;5;124m\"\u001b[39m\u001b[38;5;124myou can use builtins\u001b[39m\u001b[38;5;124m'\u001b[39m\u001b[38;5;124m open.\u001b[39m\u001b[38;5;124m\"\u001b[39m\n\u001b[0;32m    322\u001b[0m     )\n\u001b[1;32m--> 324\u001b[0m \u001b[38;5;28;01mreturn\u001b[39;00m io_open(file, \u001b[38;5;241m*\u001b[39margs, \u001b[38;5;241m*\u001b[39m\u001b[38;5;241m*\u001b[39mkwargs)\n",
      "\u001b[1;31mFileExistsError\u001b[0m: [Errno 17] File exists: 'AI ML Complete Tutorial PDF.txt'"
     ]
    }
   ],
   "source": [
    "from googlesearch import search\n",
    "\n",
    "title = 'AI ML Complete Tutorial PDF'\n",
    "\n",
    "data = search(title,num_results=50)\n",
    "\n",
    "\n",
    "all_data = []\n",
    "\n",
    "for i in data:\n",
    "  all_data.append(i+'\\n')\n",
    "\n",
    "# Mode =\n",
    "\n",
    "file = open(f'{title}.txt',mode = 'x')\n",
    "\n",
    "file.writelines(all_data)\n",
    "file.close()\n",
    "print('Done')"
   ]
  },
  {
   "cell_type": "code",
   "execution_count": 17,
   "id": "5a19aa02-fcea-44c4-980b-4959a2f48f69",
   "metadata": {},
   "outputs": [
    {
     "name": "stdout",
     "output_type": "stream",
     "text": [
      "Done\n"
     ]
    }
   ],
   "source": [
    "from googlesearch import search\n",
    "title = 'Chat GPT Trending News and Investments'\n",
    "data = search(title,num_results=5)\n",
    "\n",
    "all_data = []\n",
    "\n",
    "for i in data:\n",
    "  all_data.append(i+'\\n')\n",
    "\n",
    "# Mode = a: It will append new line\n",
    "\n",
    "file = open(f'{title}.txt',mode = 'a')\n",
    "file.writelines(all_data)\n",
    "file.close()\n",
    "print('Done')"
   ]
  },
  {
   "cell_type": "code",
   "execution_count": 11,
   "id": "4d5446e7-16e7-4d2f-9948-7058db4f3c7d",
   "metadata": {},
   "outputs": [
    {
     "name": "stdout",
     "output_type": "stream",
     "text": [
      "done\n"
     ]
    }
   ],
   "source": [
    "from googlesearch import search \n",
    "title='Chat GPT Trending News and Investments'\n",
    "data=search(title,num_results=12)\n",
    "all_data=[]\n",
    "for i in data:\n",
    "    all_data.append(i+'\\n')\n",
    "file=open(f'{title}.txt',mode='w')\n",
    "file.writelines(all_data)\n",
    "file.close()\n",
    "print('done')\n",
    "    "
   ]
  },
  {
   "cell_type": "code",
   "execution_count": null,
   "id": "ade1c86e-8f15-4832-a00d-0bda310e650e",
   "metadata": {},
   "outputs": [],
   "source": [
    "#seek is used inc cursor "
   ]
  },
  {
   "cell_type": "code",
   "execution_count": 14,
   "id": "b0493de4-a313-4b06-9f37-20b48b14dfe4",
   "metadata": {},
   "outputs": [
    {
     "name": "stdout",
     "output_type": "stream",
     "text": [
      "4\n"
     ]
    }
   ],
   "source": [
    "f = open('new.txt','w')\n",
    "print(f.write('this'))\n",
    "f.close()"
   ]
  },
  {
   "cell_type": "code",
   "execution_count": 11,
   "id": "e66a64d1-31d9-440f-a491-889a59e452bb",
   "metadata": {},
   "outputs": [
    {
     "name": "stdout",
     "output_type": "stream",
     "text": [
      "done\n"
     ]
    }
   ],
   "source": [
    "f = open('Day_4.txt','w')\n",
    "f.write('This is just a Line!!')\n",
    "f.close()\n",
    "print('done')"
   ]
  },
  {
   "cell_type": "code",
   "execution_count": 10,
   "id": "59f83ee4-c095-425e-bd69-c81fba3cc354",
   "metadata": {},
   "outputs": [
    {
     "name": "stdout",
     "output_type": "stream",
     "text": [
      "This is just a Line!!\n"
     ]
    }
   ],
   "source": [
    "f = open('day_4.txt','r+')\n",
    "print(f.read())\n",
    "f.write('\\nThis is again a New Line!!')\n",
    "f.close()"
   ]
  },
  {
   "cell_type": "code",
   "execution_count": 13,
   "id": "07e366eb-73b9-44ae-8c17-51aef7ce5007",
   "metadata": {},
   "outputs": [
    {
     "name": "stdout",
     "output_type": "stream",
     "text": [
      "\n",
      "This is again a New Line!!\n",
      "Done\n"
     ]
    }
   ],
   "source": [
    "f = open('day_4.txt','w+')\n",
    "f.write('\\nThis is again a New Line!!')\n",
    "f.seek(1)\n",
    "print(f.read())\n",
    "f.close()\n",
    "print('Done')"
   ]
  },
  {
   "cell_type": "code",
   "execution_count": 14,
   "id": "5c84fd90-703d-4664-853a-93e4ba55bcd3",
   "metadata": {},
   "outputs": [
    {
     "name": "stdout",
     "output_type": "stream",
     "text": [
      "hello\n"
     ]
    }
   ],
   "source": [
    "f=open('gauravdhamija.txt',mode='w')\n",
    "f.write('this is gaurav dhamija , he is very good coder')\n",
    "f.close()\n",
    "print('hello')"
   ]
  },
  {
   "cell_type": "code",
   "execution_count": 16,
   "id": "c81bcc64-66df-473c-8bc5-ac57d9f547a2",
   "metadata": {},
   "outputs": [
    {
     "name": "stdout",
     "output_type": "stream",
     "text": [
      "\n"
     ]
    }
   ],
   "source": [
    "f=open('gauravdhamija.txt',mode='w+')\n",
    "print(f.read())\n",
    "\n",
    "f.close()"
   ]
  },
  {
   "cell_type": "code",
   "execution_count": 17,
   "id": "d2b4bd08-67a9-4796-aa6b-41560c5b4012",
   "metadata": {},
   "outputs": [
    {
     "name": "stdout",
     "output_type": "stream",
     "text": [
      "\n",
      "This is again a New Line!!\n",
      "Done\n"
     ]
    }
   ],
   "source": [
    "f = open('gauravdhamija.txt','w+')\n",
    "f.write('\\nThis is again a New Line!!')\n",
    "f.seek(1)\n",
    "print(f.read())\n",
    "f.close()\n",
    "print('Done')"
   ]
  },
  {
   "cell_type": "code",
   "execution_count": null,
   "id": "ba7abd19-d43c-4cc9-89dc-42d6b23e063b",
   "metadata": {},
   "outputs": [],
   "source": [
    "#copy a file "
   ]
  },
  {
   "cell_type": "code",
   "execution_count": 26,
   "id": "7848b301-f46a-463a-b571-2cd17d4a528f",
   "metadata": {},
   "outputs": [
    {
     "name": "stdout",
     "output_type": "stream",
     "text": [
      "Done\n"
     ]
    }
   ],
   "source": [
    "f1 = open('Day_4.txt','r')\n",
    "all_data = f1.read()\n",
    "\n",
    "f2 = open('Day_4_copy.txt','w')\n",
    "f2.write(all_data)\n",
    "\n",
    "f1.close()\n",
    "f2.close()\n",
    "print('Done')"
   ]
  },
  {
   "cell_type": "markdown",
   "id": "ec6c4354-4be2-44b3-934d-356f6e6d8fe9",
   "metadata": {},
   "source": [
    "binary file handling"
   ]
  },
  {
   "cell_type": "code",
   "execution_count": 20,
   "id": "f1623804-d5fc-4bc6-9cb0-6288dfaa08c1",
   "metadata": {},
   "outputs": [
    {
     "name": "stdout",
     "output_type": "stream",
     "text": [
      "done\n"
     ]
    }
   ],
   "source": [
    "path= r'''C:/Users/prerna dhamija/OneDrive/Desktop/L1.jpg'''\n",
    "file=open(path,mode='rb')\n",
    "data=file.read()\n",
    "print('done')\n",
    "          \n"
   ]
  },
  {
   "cell_type": "code",
   "execution_count": 1,
   "id": "3d1b8d62-292f-4c3a-9b8f-f509bde7f63c",
   "metadata": {},
   "outputs": [],
   "source": [
    "#path=r'''C:/Users/prerna dhamija/OneDrive/Desktop/1.jpg''' "
   ]
  },
  {
   "cell_type": "code",
   "execution_count": 21,
   "id": "b285a4ff-791d-46ef-b059-6420e28566ac",
   "metadata": {},
   "outputs": [
    {
     "data": {
      "text/plain": [
       "bytes"
      ]
     },
     "execution_count": 21,
     "metadata": {},
     "output_type": "execute_result"
    }
   ],
   "source": [
    "type(data)"
   ]
  },
  {
   "cell_type": "code",
   "execution_count": 22,
   "id": "f7539128-e46c-42c3-aa3f-2e7296f71a19",
   "metadata": {},
   "outputs": [
    {
     "name": "stdout",
     "output_type": "stream",
     "text": [
      "b'\\xff\\xd8\\xff\\xe0\\x00\\x10JFIF\\x00\\x01\\x01\\x00\\x00\\x01\\x00\\x01\\x00\\x00\\xff\\xdb\\x00C\\x00\\x03\\x02\\x02\\x03\\x02\\x02\\x03\\x03\\x03\\x03\\x04\\x03\\x03\\x04\\x05\\x08\\x05\\x05\\x04\\x04\\x05\\n\\x07\\x07\\x06\\x08\\x0c\\n\\x0c\\x0c\\x0b\\n\\x0b\\x0b\\r\\x0e\\x12\\x10\\r\\x0e\\x11\\x0e\\x0b\\x0b\\x10\\x16\\x10\\x11\\x13\\x14\\x15\\x15\\x15\\x0c\\x0f\\x17\\x18\\x16\\x14\\x18\\x12\\x14\\x15\\x14\\xff\\xdb\\x00C\\x01\\x03\\x04\\x04\\x05\\x04\\x05\\t\\x05\\x05\\t\\x14\\r\\x0b\\r\\x14\\x14\\x14\\x14\\x14\\x14\\x14\\x14\\x14\\x14\\x14\\x14\\x14\\x14\\x14\\x14\\x14\\x14\\x14\\x14\\x14\\x14\\x14\\x14\\x14\\x14\\x14\\x14\\x14\\x14\\x14\\x14\\x14\\x14\\x14\\x14\\x14\\x14\\x14\\x14\\x14\\x14\\x14\\x14\\x14\\x14\\x14\\x14\\x14\\x14\\xff\\xc2\\x00\\x11\\x08\\x02\\xd0\\x02\\xd0\\x03\\x01\"\\x00\\x02\\x11\\x01\\x03\\x11\\x01\\xff\\xc4\\x00\\x1c\\x00\\x01\\x00\\x03\\x01\\x01\\x01\\x01\\x01\\x00\\x00\\x00\\x00\\x00\\x00\\x00\\x00\\x00\\x06'\n"
     ]
    }
   ],
   "source": [
    "print(data[:200])"
   ]
  },
  {
   "cell_type": "code",
   "execution_count": null,
   "id": "1c7404b3-f249-493b-87ca-e16d9e6b4563",
   "metadata": {},
   "outputs": [],
   "source": []
  }
 ],
 "metadata": {
  "kernelspec": {
   "display_name": "Python 3 (ipykernel)",
   "language": "python",
   "name": "python3"
  },
  "language_info": {
   "codemirror_mode": {
    "name": "ipython",
    "version": 3
   },
   "file_extension": ".py",
   "mimetype": "text/x-python",
   "name": "python",
   "nbconvert_exporter": "python",
   "pygments_lexer": "ipython3",
   "version": "3.12.7"
  }
 },
 "nbformat": 4,
 "nbformat_minor": 5
}
