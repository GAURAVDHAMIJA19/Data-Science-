{
 "cells": [
  {
   "cell_type": "markdown",
   "id": "c854582d-1d0b-4e18-b2bc-aa46732823d3",
   "metadata": {},
   "source": [
    "#try and exception"
   ]
  },
  {
   "cell_type": "code",
   "execution_count": 1,
   "id": "6d552649-2567-410c-bd0d-58dbfb6090cb",
   "metadata": {},
   "outputs": [
    {
     "name": "stdout",
     "output_type": "stream",
     "text": [
      "Invalid Code!!\n"
     ]
    }
   ],
   "source": [
    "age = '23'\n",
    "\n",
    "try:\n",
    "  # print(1/0)\n",
    "  print(vari)\n",
    "  if age >= 18:\n",
    "    print('can vote')\n",
    "  else:\n",
    "    print('can\\'t vote')\n",
    "except TypeError:\n",
    "  print('Something went wrong!!')\n",
    "  print('Invalid datatype comparison!!')\n",
    "\n",
    "except:\n",
    "  print('Invalid Code!!')"
   ]
  },
  {
   "cell_type": "code",
   "execution_count": 13,
   "id": "606eb9de-bc9b-4afb-9a68-019eb7bd4832",
   "metadata": {},
   "outputs": [],
   "source": [
    "def student_record(**kwargs):\n",
    "    import pandas as pd\n",
    "    try:\n",
    "        data=pd.DataFrame(kwargs)\n",
    "        return data\n",
    "    except:\n",
    "        data=pd.DataFrame(kwargs,index=[1])\n",
    "        return data"
   ]
  },
  {
   "cell_type": "code",
   "execution_count": 14,
   "id": "83e6d829-f61e-4e67-9798-46464ed9577b",
   "metadata": {},
   "outputs": [
    {
     "data": {
      "text/html": [
       "<div>\n",
       "<style scoped>\n",
       "    .dataframe tbody tr th:only-of-type {\n",
       "        vertical-align: middle;\n",
       "    }\n",
       "\n",
       "    .dataframe tbody tr th {\n",
       "        vertical-align: top;\n",
       "    }\n",
       "\n",
       "    .dataframe thead th {\n",
       "        text-align: right;\n",
       "    }\n",
       "</style>\n",
       "<table border=\"1\" class=\"dataframe\">\n",
       "  <thead>\n",
       "    <tr style=\"text-align: right;\">\n",
       "      <th></th>\n",
       "      <th>Name</th>\n",
       "      <th>age</th>\n",
       "      <th>sec</th>\n",
       "      <th>address</th>\n",
       "    </tr>\n",
       "  </thead>\n",
       "  <tbody>\n",
       "    <tr>\n",
       "      <th>0</th>\n",
       "      <td>ajay</td>\n",
       "      <td>20</td>\n",
       "      <td>A</td>\n",
       "      <td>delhi</td>\n",
       "    </tr>\n",
       "    <tr>\n",
       "      <th>1</th>\n",
       "      <td>rahul</td>\n",
       "      <td>12</td>\n",
       "      <td>B</td>\n",
       "      <td>patna</td>\n",
       "    </tr>\n",
       "    <tr>\n",
       "      <th>2</th>\n",
       "      <td>sohan</td>\n",
       "      <td>23</td>\n",
       "      <td>C</td>\n",
       "      <td>rajouri</td>\n",
       "    </tr>\n",
       "    <tr>\n",
       "      <th>3</th>\n",
       "      <td>mohan</td>\n",
       "      <td>21</td>\n",
       "      <td>D</td>\n",
       "      <td>noida</td>\n",
       "    </tr>\n",
       "  </tbody>\n",
       "</table>\n",
       "</div>"
      ],
      "text/plain": [
       "    Name  age sec  address\n",
       "0   ajay   20   A    delhi\n",
       "1  rahul   12   B    patna\n",
       "2  sohan   23   C  rajouri\n",
       "3  mohan   21   D    noida"
      ]
     },
     "execution_count": 14,
     "metadata": {},
     "output_type": "execute_result"
    }
   ],
   "source": [
    "student_record(Name=['ajay','rahul','sohan','mohan'],\n",
    "               age=[20,12,23,21],\n",
    "               sec=list('ABCD'),\n",
    "               address=['delhi','patna','rajouri','noida'])"
   ]
  },
  {
   "cell_type": "code",
   "execution_count": 19,
   "id": "d1a330a1-be06-4136-ae61-5cc61834ff3e",
   "metadata": {},
   "outputs": [],
   "source": [
    "def show_time():\n",
    "    try:\n",
    "        while True:\n",
    "            import time\n",
    "            print(time.asctime())\n",
    "            time.sleep(1)\n",
    "            display(clear=True)\n",
    "    except:\n",
    "        print('timer has been stoped!!')"
   ]
  },
  {
   "cell_type": "code",
   "execution_count": 20,
   "id": "f3d9854e-8253-4b7a-86a9-2593f63846e3",
   "metadata": {},
   "outputs": [
    {
     "name": "stdout",
     "output_type": "stream",
     "text": [
      "Fri Jul  4 10:39:41 2025\n",
      "timer has been stoped!!\n"
     ]
    }
   ],
   "source": [
    "show_time()"
   ]
  },
  {
   "cell_type": "code",
   "execution_count": null,
   "id": "ca91ac92-6811-4214-98d7-0582ce040fb2",
   "metadata": {},
   "outputs": [],
   "source": [
    "\n"
   ]
  },
  {
   "cell_type": "code",
   "execution_count": null,
   "id": "9c446cff-fd76-44c6-bf9d-cde0c3c984a0",
   "metadata": {},
   "outputs": [],
   "source": []
  },
  {
   "cell_type": "code",
   "execution_count": null,
   "id": "a1cc6c5d-96ca-4c56-ba44-ecc409c2fe92",
   "metadata": {},
   "outputs": [],
   "source": []
  },
  {
   "cell_type": "code",
   "execution_count": null,
   "id": "2e3cd20c-931b-4e59-a16b-d75f12bb0189",
   "metadata": {},
   "outputs": [],
   "source": []
  },
  {
   "cell_type": "code",
   "execution_count": null,
   "id": "ae2e7905-85f7-47dc-81b1-5f3a2a594664",
   "metadata": {},
   "outputs": [],
   "source": []
  },
  {
   "cell_type": "code",
   "execution_count": null,
   "id": "4dccf386-215f-496a-8a32-0b46aac0dc7a",
   "metadata": {},
   "outputs": [],
   "source": []
  },
  {
   "cell_type": "code",
   "execution_count": 31,
   "id": "250b40b4-7550-4e7d-b1ab-8690110ce177",
   "metadata": {},
   "outputs": [
    {
     "name": "stdout",
     "output_type": "stream",
     "text": [
      "Done\n"
     ]
    }
   ],
   "source": [
    "import Gaurav as G\n",
    "print('Done')"
   ]
  },
  {
   "cell_type": "code",
   "execution_count": 33,
   "id": "88c02476-a677-4808-865a-ebf1dfbb7a23",
   "metadata": {},
   "outputs": [
    {
     "name": "stdout",
     "output_type": "stream",
     "text": [
      "    * \n",
      "   * * \n",
      "  * * * \n",
      " * * * * \n",
      "* * * * * \n"
     ]
    }
   ],
   "source": [
    "G.print_star(typ='mid')"
   ]
  },
  {
   "cell_type": "code",
   "execution_count": 34,
   "id": "a74af9e6-b0fc-48ff-8f35-1df170143afa",
   "metadata": {},
   "outputs": [
    {
     "data": {
      "text/plain": [
       "'not a prime number'"
      ]
     },
     "execution_count": 34,
     "metadata": {},
     "output_type": "execute_result"
    }
   ],
   "source": [
    "G.check_prime(20)"
   ]
  },
  {
   "cell_type": "code",
   "execution_count": 35,
   "id": "e3a7717d-5356-4582-90cd-9d847b0ccb4b",
   "metadata": {},
   "outputs": [
    {
     "data": {
      "text/plain": [
       "24"
      ]
     },
     "execution_count": 35,
     "metadata": {},
     "output_type": "execute_result"
    }
   ],
   "source": [
    "G.factorial(4)"
   ]
  },
  {
   "cell_type": "code",
   "execution_count": 37,
   "id": "c49a407b-12b0-491f-ad54-6cb061311d38",
   "metadata": {},
   "outputs": [
    {
     "name": "stdout",
     "output_type": "stream",
     "text": [
      "    # \n",
      "   # # \n",
      "  # # # \n",
      " # # # # \n",
      "# # # # # \n"
     ]
    }
   ],
   "source": [
    "G.print_star(typ='mid',shape='#')"
   ]
  },
  {
   "cell_type": "code",
   "execution_count": null,
   "id": "bf20161e-be15-4bb6-91e2-f314ec194b04",
   "metadata": {},
   "outputs": [],
   "source": [
    "#shift tab is used to show the arguments"
   ]
  },
  {
   "cell_type": "code",
   "execution_count": 38,
   "id": "a442f603-29bb-485f-bee2-f95c2aaa8e58",
   "metadata": {},
   "outputs": [
    {
     "data": {
      "text/plain": [
       "[0, 1, 1, 2, 3, 5]"
      ]
     },
     "execution_count": 38,
     "metadata": {},
     "output_type": "execute_result"
    }
   ],
   "source": [
    "G.give_fibo(6)\n"
   ]
  },
  {
   "cell_type": "code",
   "execution_count": 39,
   "id": "6fa7a996-7225-4bf7-af95-6a518dafb08a",
   "metadata": {},
   "outputs": [
    {
     "name": "stdout",
     "output_type": "stream",
     "text": [
      "pygame 2.6.1 (SDL 2.28.4, Python 3.12.7)\n",
      "Hello from the pygame community. https://www.pygame.org/contribute.html\n"
     ]
    }
   ],
   "source": [
    "G.sound_box(299)"
   ]
  },
  {
   "cell_type": "code",
   "execution_count": 40,
   "id": "bed83640-03d3-4420-8728-d4a11d381b9a",
   "metadata": {},
   "outputs": [
    {
     "data": {
      "text/plain": [
       "'palindrome'"
      ]
     },
     "execution_count": 40,
     "metadata": {},
     "output_type": "execute_result"
    }
   ],
   "source": [
    "G.check_palindrome('nitin')"
   ]
  },
  {
   "cell_type": "code",
   "execution_count": 2,
   "id": "c67ba516-7d87-4da4-847b-ad12435364ae",
   "metadata": {},
   "outputs": [
    {
     "ename": "NameError",
     "evalue": "name 'G' is not defined",
     "output_type": "error",
     "traceback": [
      "\u001b[1;31m---------------------------------------------------------------------------\u001b[0m",
      "\u001b[1;31mNameError\u001b[0m                                 Traceback (most recent call last)",
      "Cell \u001b[1;32mIn[2], line 1\u001b[0m\n\u001b[1;32m----> 1\u001b[0m G\u001b[38;5;241m.\u001b[39msound_box(\u001b[38;5;241m12\u001b[39m)\n",
      "\u001b[1;31mNameError\u001b[0m: name 'G' is not defined"
     ]
    }
   ],
   "source": [
    "G.sound_box(12)\n"
   ]
  },
  {
   "cell_type": "code",
   "execution_count": 3,
   "id": "b3432e9d-b1ce-4b86-844b-02480be2e1df",
   "metadata": {},
   "outputs": [
    {
     "name": "stdout",
     "output_type": "stream",
     "text": [
      "this is Gaurav nodule in python\n",
      "       https://www.google.com/\n",
      "Done\n"
     ]
    }
   ],
   "source": [
    "import Gaurav as G\n",
    "print('Done')"
   ]
  },
  {
   "cell_type": "code",
   "execution_count": 4,
   "id": "0f357d24-240b-46db-a629-af18a38328ec",
   "metadata": {},
   "outputs": [
    {
     "name": "stdout",
     "output_type": "stream",
     "text": [
      "pygame 2.6.1 (SDL 2.28.4, Python 3.12.7)\n",
      "Hello from the pygame community. https://www.pygame.org/contribute.html\n"
     ]
    }
   ],
   "source": [
    "G.sound_box(12)"
   ]
  },
  {
   "cell_type": "code",
   "execution_count": null,
   "id": "d4227b07-3eb5-4505-bdce-81ae70b84ff9",
   "metadata": {},
   "outputs": [],
   "source": [
    "#restart kernal after function changes"
   ]
  },
  {
   "cell_type": "code",
   "execution_count": 3,
   "id": "07086892-590a-401c-ad92-0ed9d6322322",
   "metadata": {},
   "outputs": [
    {
     "name": "stdout",
     "output_type": "stream",
     "text": [
      "Done\n"
     ]
    }
   ],
   "source": [
    "from Gaurav import max_ele\n",
    "print('Done')"
   ]
  },
  {
   "cell_type": "code",
   "execution_count": 4,
   "id": "c2e4166f-e871-4b0e-a394-76279ead01ce",
   "metadata": {},
   "outputs": [
    {
     "name": "stdout",
     "output_type": "stream",
     "text": [
      "67\n"
     ]
    }
   ],
   "source": [
    "max_ele(1,23,45,67,8,9)"
   ]
  },
  {
   "cell_type": "code",
   "execution_count": 5,
   "id": "000b65ee-3589-483c-9302-8b807e969a78",
   "metadata": {},
   "outputs": [
    {
     "data": {
      "text/plain": [
       "210"
      ]
     },
     "execution_count": 5,
     "metadata": {},
     "output_type": "execute_result"
    }
   ],
   "source": [
    "from Gaurav import sum_of_natural_number\n",
    "sum_of_natural_number(20)"
   ]
  },
  {
   "cell_type": "code",
   "execution_count": 7,
   "id": "48f21987-c81a-4433-a289-00ad33bc316d",
   "metadata": {},
   "outputs": [
    {
     "name": "stdout",
     "output_type": "stream",
     "text": [
      "Done\n"
     ]
    }
   ],
   "source": [
    "import turtle\n",
    "print('Done')"
   ]
  },
  {
   "cell_type": "code",
   "execution_count": null,
   "id": "fb961f75-94c4-4c81-9c0b-f75e8dd711ba",
   "metadata": {},
   "outputs": [],
   "source": [
    "#pypi is a website "
   ]
  },
  {
   "cell_type": "code",
   "execution_count": 11,
   "id": "da32ce92-0011-457a-8c2c-2bc747296221",
   "metadata": {},
   "outputs": [],
   "source": [
    "import turtle\n",
    "for i in range(4):\n",
    "    turtle.circle(100)\n",
    "    turtle.left(3)"
   ]
  },
  {
   "cell_type": "code",
   "execution_count": 2,
   "id": "c04a991b-8109-4afa-858b-66425d3dce93",
   "metadata": {},
   "outputs": [],
   "source": [
    "import turtle\n",
    "for i in range(120):\n",
    "  turtle.speed(0)\n",
    "  turtle.bgcolor('black')\n",
    "  col=['red','yellow','green','orange']\n",
    "  import random\n",
    "  pc=random.choice(col)\n",
    "  turtle.color(pc)\n",
    "  turtle.circle(100)\n",
    "  turtle.left(3)"
   ]
  },
  {
   "cell_type": "code",
   "execution_count": null,
   "id": "0e9aa646-16d8-40c5-ad56-6f9a818c5241",
   "metadata": {},
   "outputs": [],
   "source": [
    "import turtle\n",
    "for i in range(6):\n",
    "    "
   ]
  },
  {
   "cell_type": "markdown",
   "id": "cc8f274f-d0dc-48f0-be57-30d47627c832",
   "metadata": {},
   "source": [
    "file handling"
   ]
  },
  {
   "cell_type": "code",
   "execution_count": null,
   "id": "b432f3cb-81c8-42ab-9719-db051035befc",
   "metadata": {},
   "outputs": [],
   "source": [
    " 1:- Text File\n",
    "#\n",
    "# .py,.html, .csv, .tsv, .css, .java, .c, c++,. json, .js,\n",
    "# 2: Binary File\n",
    "# Software\n",
    "# .pdf, .mp3, mp4, .png, .jpeg, .exe, .zip, .dat, .tar .xlsx, .ppt, .doc, .ipynb"
   ]
  },
  {
   "cell_type": "code",
   "execution_count": null,
   "id": "81e50e15-d52e-4c35-9bf4-32e2e7f0ccac",
   "metadata": {},
   "outputs": [],
   "source": [
    "# handling:- read, write, copy, append, delete, open, new"
   ]
  },
  {
   "cell_type": "code",
   "execution_count": 7,
   "id": "3a78bd44-69b5-4d1c-92ee-13b0d2b194c4",
   "metadata": {},
   "outputs": [
    {
     "name": "stdout",
     "output_type": "stream",
     "text": [
      "print('''this is Gaurav nodule in python\n",
      "       https://www.google.com/''')\n",
      "\n",
      "def check_palindrome(wo\n"
     ]
    }
   ],
   "source": [
    "file=open(\"Gaurav.py\",mode='r')\n",
    "print(file.read(100))\n",
    "# file.close()"
   ]
  },
  {
   "cell_type": "code",
   "execution_count": 8,
   "id": "0d7eb993-0b42-440b-a5a4-4461105062e9",
   "metadata": {},
   "outputs": [],
   "source": [
    "#100 is for printing 100 chracters including space "
   ]
  },
  {
   "cell_type": "code",
   "execution_count": 15,
   "id": "e792bc01-cf86-408c-a1c0-62351a134719",
   "metadata": {},
   "outputs": [
    {
     "name": "stdout",
     "output_type": "stream",
     "text": [
      "print('''this is Gaurav nodule in python\n",
      "\n",
      "       https://www.google.com/''')\n",
      "\n",
      "\n",
      "\n",
      "def check_palindrome(word:str):\n",
      "\n",
      "    if type(word)==str:\n",
      "\n",
      "        word=word.upper()\n",
      "\n",
      "        if word==word[::-1]:\n",
      "\n",
      "            return 'palindrome'\n",
      "\n",
      "        else:\n",
      "\n",
      "            return 'not a palindrome'\n",
      "\n",
      "    else:\n",
      "\n",
      "        return ' invalid datatype'\n",
      "\n",
      "\n",
      "\n",
      "def give_fibo(n):\n",
      "\n",
      "    fibo=[0,1]\n",
      "\n",
      "    for i in range(n-2):\n",
      "\n",
      "        last=fibo[-1]\n",
      "\n",
      "        second=fibo[-2]\n",
      "\n",
      "        next_num=last + second\n",
      "\n",
      "        fibo.append(next_num)\n",
      "\n",
      "    return fibo\n",
      "\n",
      "\n",
      "\n",
      "def check_prime(number):\n",
      "\n",
      "    for i in range(2,number):\n",
      "\n",
      "        if number%i==0:\n",
      "\n",
      "            return 'not a prime number'\n",
      "\n",
      "            break\n",
      "\n",
      "        else:\n",
      "\n",
      "            return 'prime number'\n",
      "\n",
      "\n",
      "\n",
      "def print_star(n = 5, typ = 'left',shape = '*'):\n",
      "\n",
      "  if typ  == 'left':\n",
      "\n",
      "    space  = ''\n",
      "\n",
      "\n",
      "\n",
      "  elif typ == 'right':\n",
      "\n",
      "    space = '  '\n",
      "\n",
      "\n",
      "\n",
      "  elif typ == 'mid':\n",
      "\n",
      "    space = ' '\n",
      "\n",
      "\n",
      "\n",
      "  for i in range(1,n+1):\n",
      "\n",
      "    print(space*(n-i) + i*f'{shape} ')\n",
      "\n",
      "\n",
      "\n",
      "def sum_of_natural_number(n):\n",
      "\n",
      "    sum=0\n",
      "\n",
      "    for i in range(1,n+1):\n",
      "\n",
      "        sum=sum+i\n",
      "\n",
      "    return sum\n",
      "\n",
      "\n",
      "\n",
      "\n",
      "\n",
      "def factorial(n):\n",
      "\n",
      "    result=1\n",
      "\n",
      "    for i in range(1,n+1):\n",
      "\n",
      "        result=result*i\n",
      "\n",
      "    return result\n",
      "\n",
      "\n",
      "\n",
      "def total_sales(*args):\n",
      "\n",
      "    result=0\n",
      "\n",
      "    for i in args:\n",
      "\n",
      "        result=result+i\n",
      "\n",
      "    return result\n",
      "\n",
      "\n",
      "\n",
      "def minn(*data):\n",
      "\n",
      "    min_val=data[0]\n",
      "\n",
      "    for i in data[1:]:\n",
      "\n",
      "        if i<min_val:\n",
      "\n",
      "            min_val=i\n",
      "\n",
      "    return min_val\n",
      "\n",
      "\n",
      "\n",
      "def max_ele(*data):\n",
      "\n",
      "\n",
      "\n",
      "    max_element = data[0]\n",
      "\n",
      "\n",
      "\n",
      "    for i in data[1:]:\n",
      "\n",
      "      if i > max_element:\n",
      "\n",
      "        max_element = i\n",
      "\n",
      "    print( max_element)\n",
      "\n",
      "\n",
      "\n",
      "\n",
      "\n",
      "\n",
      "\n",
      "\n",
      "\n",
      "def add_hashtag(*company):\n",
      "\n",
      "  result = []\n",
      "\n",
      "  for i in company:\n",
      "\n",
      "    result.append('#'+i.upper())\n",
      "\n",
      "  return result\n",
      "\n",
      "\n",
      "\n",
      "def student_record(**kwargs):\n",
      "\n",
      "    import pandas as pd\n",
      "\n",
      "    try:\n",
      "\n",
      "        data=pd.DataFrame(kwargs)\n",
      "\n",
      "        return data\n",
      "\n",
      "    except:\n",
      "\n",
      "        data=pd.DataFrame(kwargs,index=[1])\n",
      "\n",
      "        return data\n",
      "\n",
      "\n",
      "\n",
      "def show_time():\n",
      "\n",
      "    try:\n",
      "\n",
      "        while True:\n",
      "\n",
      "            import time\n",
      "\n",
      "            print(time.asctime())\n",
      "\n",
      "            time.sleep(1)\n",
      "\n",
      "            display(clear=True)\n",
      "\n",
      "    except:\n",
      "\n",
      "        print('timer has been stoped!!')\n",
      "\n",
      "\n",
      "\n",
      "def sound_box(paisa):\n",
      "\n",
      "    from gtts import gTTS \n",
      "\n",
      "    text=f'''phonepe par {paisa} rupees prapt hue.'''\n",
      "\n"
     ]
    }
   ],
   "source": [
    "file=open(\"Gaurav.py\",mode='r')\n",
    "for i in range(109):\n",
    "     print(file.readline())\n"
   ]
  },
  {
   "cell_type": "code",
   "execution_count": 17,
   "id": "480a4bd8-6b52-4e3c-8efd-ea85df462bf7",
   "metadata": {},
   "outputs": [
    {
     "name": "stdout",
     "output_type": "stream",
     "text": [
      "    if type(word)==str:\n",
      "\n"
     ]
    }
   ],
   "source": [
    "file=open(\"Gaurav.py\",mode='r')\n",
    "for i in range(10):\n",
    "   if i==4:\n",
    "       print(file.readline())\n",
    "   else:\n",
    "       file.readline()\n",
    "       "
   ]
  },
  {
   "cell_type": "code",
   "execution_count": 18,
   "id": "dfa221fd-5191-49e3-b6f8-218d554f98c2",
   "metadata": {},
   "outputs": [
    {
     "name": "stdout",
     "output_type": "stream",
     "text": [
      "done\n"
     ]
    }
   ],
   "source": [
    "file=open(\"Gaurav.py\",mode='r')\n",
    "data=file.readlines()\n",
    "file.close()\n",
    "print('done')"
   ]
  },
  {
   "cell_type": "code",
   "execution_count": 20,
   "id": "4d038a22-f3eb-4085-ae4a-83e87ce83f1e",
   "metadata": {},
   "outputs": [
    {
     "data": {
      "text/plain": [
       "['        word=word.upper()\\n',\n",
       " '        if word==word[::-1]:\\n',\n",
       " \"            return 'palindrome'\\n\",\n",
       " '        else:\\n',\n",
       " \"            return 'not a palindrome'\\n\",\n",
       " '    else:\\n',\n",
       " \"        return ' invalid datatype'\\n\",\n",
       " '\\n',\n",
       " 'def give_fibo(n):\\n',\n",
       " '    fibo=[0,1]\\n',\n",
       " '    for i in range(n-2):\\n',\n",
       " '        last=fibo[-1]\\n',\n",
       " '        second=fibo[-2]\\n',\n",
       " '        next_num=last + second\\n',\n",
       " '        fibo.append(next_num)\\n',\n",
       " '    return fibo\\n',\n",
       " '\\n',\n",
       " 'def check_prime(number):\\n',\n",
       " '    for i in range(2,number):\\n',\n",
       " '        if number%i==0:\\n',\n",
       " \"            return 'not a prime number'\\n\",\n",
       " '            break\\n',\n",
       " '        else:\\n',\n",
       " \"            return 'prime number'\\n\",\n",
       " '\\n',\n",
       " \"def print_star(n = 5, typ = 'left',shape = '*'):\\n\",\n",
       " \"  if typ  == 'left':\\n\",\n",
       " \"    space  = ''\\n\",\n",
       " '\\n',\n",
       " \"  elif typ == 'right':\\n\",\n",
       " \"    space = '  '\\n\",\n",
       " '\\n',\n",
       " \"  elif typ == 'mid':\\n\",\n",
       " \"    space = ' '\\n\",\n",
       " '\\n']"
      ]
     },
     "execution_count": 20,
     "metadata": {},
     "output_type": "execute_result"
    }
   ],
   "source": [
    "data[5:40]"
   ]
  },
  {
   "cell_type": "code",
   "execution_count": 22,
   "id": "ac4b2397-34d4-4e7a-85b5-f23b959d4dfc",
   "metadata": {},
   "outputs": [
    {
     "name": "stdout",
     "output_type": "stream",
     "text": [
      "print('''this is Gaurav nodule in python\n",
      "\n",
      "       https://www.google.com/''')\n",
      "\n",
      "\n",
      "\n",
      "def check_palindrome(word:str):\n",
      "\n",
      "    if type(word)==str:\n",
      "\n",
      "        word=word.upper()\n",
      "\n",
      "        if word==word[::-1]:\n",
      "\n",
      "            return 'palindrome'\n",
      "\n",
      "        else:\n",
      "\n",
      "            return 'not a palindrome'\n",
      "\n",
      "    else:\n",
      "\n",
      "        return ' invalid datatype'\n",
      "\n",
      "\n",
      "\n",
      "def give_fibo(n):\n",
      "\n",
      "    fibo=[0,1]\n",
      "\n",
      "    for i in range(n-2):\n",
      "\n"
     ]
    }
   ],
   "source": [
    "for i in data[:16]:\n",
    "    print(i)"
   ]
  },
  {
   "cell_type": "code",
   "execution_count": null,
   "id": "7b84066d-aae5-41c1-b137-2512dc43d3aa",
   "metadata": {},
   "outputs": [],
   "source": []
  }
 ],
 "metadata": {
  "kernelspec": {
   "display_name": "Python 3 (ipykernel)",
   "language": "python",
   "name": "python3"
  },
  "language_info": {
   "codemirror_mode": {
    "name": "ipython",
    "version": 3
   },
   "file_extension": ".py",
   "mimetype": "text/x-python",
   "name": "python",
   "nbconvert_exporter": "python",
   "pygments_lexer": "ipython3",
   "version": "3.12.7"
  }
 },
 "nbformat": 4,
 "nbformat_minor": 5
}
