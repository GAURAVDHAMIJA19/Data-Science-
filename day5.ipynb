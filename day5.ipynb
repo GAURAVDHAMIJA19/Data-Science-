{
 "cells": [
  {
   "cell_type": "code",
   "execution_count": 1,
   "id": "e45d5f31-f234-495d-b446-a2071c89c988",
   "metadata": {},
   "outputs": [
    {
     "name": "stdout",
     "output_type": "stream",
     "text": [
      "h\n"
     ]
    }
   ],
   "source": [
    "print('h')"
   ]
  },
  {
   "cell_type": "code",
   "execution_count": 2,
   "id": "0c62d1f4-e17b-47b1-b75f-3d9046e0026d",
   "metadata": {},
   "outputs": [
    {
     "name": "stdout",
     "output_type": "stream",
     "text": [
      "done\n"
     ]
    }
   ],
   "source": [
    "import pymysql as p\n",
    "print('done')"
   ]
  },
  {
   "cell_type": "code",
   "execution_count": 3,
   "id": "df1c6b9d-00a0-40fe-9dd9-ead2b6deb2e9",
   "metadata": {
    "scrolled": true
   },
   "outputs": [
    {
     "name": "stdout",
     "output_type": "stream",
     "text": [
      "Collecting PyMySQL\n",
      "  Downloading PyMySQL-1.1.1-py3-none-any.whl.metadata (4.4 kB)\n",
      "Downloading PyMySQL-1.1.1-py3-none-any.whl (44 kB)\n",
      "Installing collected packages: PyMySQL\n",
      "Successfully installed PyMySQL-1.1.1\n",
      "Note: you may need to restart the kernel to use updated packages.\n"
     ]
    }
   ],
   "source": [
    "pip install PyMySQL"
   ]
  },
  {
   "cell_type": "code",
   "execution_count": 3,
   "id": "09619715-65b1-43eb-a16b-3042165c7fd3",
   "metadata": {},
   "outputs": [
    {
     "name": "stdout",
     "output_type": "stream",
     "text": [
      "done\n"
     ]
    }
   ],
   "source": [
    "import pymysql as p\n",
    "print('done')"
   ]
  },
  {
   "cell_type": "code",
   "execution_count": 4,
   "id": "855946ed-6b5c-4d38-8a50-147c56118fd9",
   "metadata": {},
   "outputs": [
    {
     "name": "stdout",
     "output_type": "stream",
     "text": [
      "connection created successfully!!\n"
     ]
    }
   ],
   "source": [
    "conn=p.connect(user = 'root',\n",
    "           password='gaurav,,',\n",
    "           autocommit = True)\n",
    "print('connection created successfully!!')"
   ]
  },
  {
   "cell_type": "code",
   "execution_count": 5,
   "id": "5da5c9de-937d-4d40-b28a-49f4bdb78ab5",
   "metadata": {},
   "outputs": [
    {
     "name": "stdout",
     "output_type": "stream",
     "text": [
      "done\n"
     ]
    }
   ],
   "source": [
    "cur = conn.cursor()\n",
    "print('done')"
   ]
  },
  {
   "cell_type": "code",
   "execution_count": 6,
   "id": "30b2f0db-0417-460b-937b-ec390c32fc06",
   "metadata": {},
   "outputs": [
    {
     "name": "stdout",
     "output_type": "stream",
     "text": [
      "done\n"
     ]
    }
   ],
   "source": [
    "query='''create database IITM_day5;'''\n",
    "cur.execute(query)\n",
    "print('done')"
   ]
  },
  {
   "cell_type": "code",
   "execution_count": 7,
   "id": "5f7f2673-35db-4639-8745-b715bd615bac",
   "metadata": {},
   "outputs": [
    {
     "name": "stdout",
     "output_type": "stream",
     "text": [
      "done\n"
     ]
    }
   ],
   "source": [
    "query='''use IITM_day5;'''\n",
    "cur.execute(query)\n",
    "print('done')"
   ]
  },
  {
   "cell_type": "code",
   "execution_count": 8,
   "id": "59b95c36-d26c-4c6c-b9f2-8d861ba7af00",
   "metadata": {},
   "outputs": [
    {
     "name": "stdout",
     "output_type": "stream",
     "text": [
      "done\n"
     ]
    }
   ],
   "source": [
    "query='''create table student_detail(std int not null,student_name varchar(50),course varchar(30),address varchar(50),scholarship float);'''\n",
    "\n",
    "cur.execute(query)\n",
    "print('done')"
   ]
  },
  {
   "cell_type": "code",
   "execution_count": 11,
   "id": "ace76dd9-2037-4ebe-87f1-3a8d604f3dde",
   "metadata": {},
   "outputs": [
    {
     "name": "stdout",
     "output_type": "stream",
     "text": [
      "done\n"
     ]
    }
   ],
   "source": [
    "query=''' insert into student_detail values(102,\"rahul dhamija\",\"bba\",\"delhi janakpuri\",50000);'''\n",
    "                                            \n",
    "cur.execute(query)\n",
    "print('done')"
   ]
  },
  {
   "cell_type": "code",
   "execution_count": null,
   "id": "66602111-f797-4341-a643-2893b62c36d6",
   "metadata": {},
   "outputs": [],
   "source": [
    "for i in range(0,3,1):\n",
    "    sid=int(input(\"enter your roll\"))\n",
    "    name=input(\"enter your name\")\n",
    "    course=input(\"enter your course\")\n",
    "    address=input(\"enter your address\")\n",
    "    scholarship=float(input(\"enter your scholarship:\"))\n",
    "    q=f''' insert into student_detail values\n",
    "    ({sid},\"{name}\",\"{course}\",\"{address}\",{scholarship});''' \n",
    "    cur.execute(q)\n",
    "    print(\"record inserted successfully\")\n",
    "print('done')"
   ]
  },
  {
   "cell_type": "code",
   "execution_count": null,
   "id": "583bcb17-f53f-4d82-98a5-ed655dd3e1c7",
   "metadata": {},
   "outputs": [],
   "source": []
  },
  {
   "cell_type": "code",
   "execution_count": 25,
   "id": "8a73770d-8ab1-4c42-9258-f7523c43e655",
   "metadata": {},
   "outputs": [
    {
     "data": {
      "text/html": [
       "<div>\n",
       "<style scoped>\n",
       "    .dataframe tbody tr th:only-of-type {\n",
       "        vertical-align: middle;\n",
       "    }\n",
       "\n",
       "    .dataframe tbody tr th {\n",
       "        vertical-align: top;\n",
       "    }\n",
       "\n",
       "    .dataframe thead th {\n",
       "        text-align: right;\n",
       "    }\n",
       "</style>\n",
       "<table border=\"1\" class=\"dataframe\">\n",
       "  <thead>\n",
       "    <tr style=\"text-align: right;\">\n",
       "      <th></th>\n",
       "      <th>std</th>\n",
       "      <th>student_name</th>\n",
       "      <th>course</th>\n",
       "      <th>address</th>\n",
       "      <th>scholarship</th>\n",
       "    </tr>\n",
       "  </thead>\n",
       "  <tbody>\n",
       "    <tr>\n",
       "      <th>0</th>\n",
       "      <td>101</td>\n",
       "      <td>gaurav dhamija</td>\n",
       "      <td>bca</td>\n",
       "      <td>delhi janakpuri</td>\n",
       "      <td>50000.0</td>\n",
       "    </tr>\n",
       "    <tr>\n",
       "      <th>1</th>\n",
       "      <td>102</td>\n",
       "      <td>rahul dhamija</td>\n",
       "      <td>bba</td>\n",
       "      <td>delhi janakpuri</td>\n",
       "      <td>50000.0</td>\n",
       "    </tr>\n",
       "    <tr>\n",
       "      <th>2</th>\n",
       "      <td>101</td>\n",
       "      <td>gaurav</td>\n",
       "      <td>bba</td>\n",
       "      <td>mu block</td>\n",
       "      <td>2000.0</td>\n",
       "    </tr>\n",
       "    <tr>\n",
       "      <th>3</th>\n",
       "      <td>101</td>\n",
       "      <td>gaurav</td>\n",
       "      <td>bba</td>\n",
       "      <td>mu</td>\n",
       "      <td>3000.0</td>\n",
       "    </tr>\n",
       "    <tr>\n",
       "      <th>4</th>\n",
       "      <td>102</td>\n",
       "      <td>ram</td>\n",
       "      <td>bca</td>\n",
       "      <td>keshav puram</td>\n",
       "      <td>4000.0</td>\n",
       "    </tr>\n",
       "    <tr>\n",
       "      <th>5</th>\n",
       "      <td>103</td>\n",
       "      <td>prem</td>\n",
       "      <td>bcom</td>\n",
       "      <td>kanhiya nagar</td>\n",
       "      <td>5000.0</td>\n",
       "    </tr>\n",
       "  </tbody>\n",
       "</table>\n",
       "</div>"
      ],
      "text/plain": [
       "   std    student_name course          address  scholarship\n",
       "0  101  gaurav dhamija    bca  delhi janakpuri      50000.0\n",
       "1  102   rahul dhamija    bba  delhi janakpuri      50000.0\n",
       "2  101          gaurav    bba        mu block        2000.0\n",
       "3  101          gaurav    bba               mu       3000.0\n",
       "4  102             ram    bca     keshav puram       4000.0\n",
       "5  103            prem   bcom    kanhiya nagar       5000.0"
      ]
     },
     "execution_count": 25,
     "metadata": {},
     "output_type": "execute_result"
    }
   ],
   "source": [
    "query='''select * from student_detail;'''\n",
    "cur.execute(query)\n",
    "\n",
    "record=cur.fetchall()\n",
    "all_columns=[]\n",
    "for i in cur.description:\n",
    "    all_columns.append(i[0])\n",
    "import pandas as pd\n",
    "pd.DataFrame(record,columns=all_columns)"
   ]
  },
  {
   "cell_type": "code",
   "execution_count": 22,
   "id": "d106e7fd-b041-4741-95de-bb4914931423",
   "metadata": {},
   "outputs": [
    {
     "name": "stdout",
     "output_type": "stream",
     "text": [
      "['std', 'student_name', 'course', 'address', 'scholarship']\n"
     ]
    }
   ],
   "source": [
    "\n",
    "print(all_columns)"
   ]
  },
  {
   "cell_type": "code",
   "execution_count": null,
   "id": "0663918a-3d51-48b6-b760-9c82a4e50ccb",
   "metadata": {},
   "outputs": [],
   "source": []
  },
  {
   "cell_type": "code",
   "execution_count": 26,
   "id": "1336bd88-5af9-415c-92c5-4e2fea430c92",
   "metadata": {},
   "outputs": [],
   "source": [
    "\n",
    "def show_records(db,table):\n",
    "    query=f'''select * from {db}.{table};'''\n",
    "    cur.execute(query)\n",
    "    \n",
    "    record=cur.fetchall()\n",
    "    all_columns=[]\n",
    "    for i in cur.description:\n",
    "        all_columns.append(i[0])\n",
    "    import pandas as pd\n",
    "    df=pd.DataFrame(record,columns=all_columns)\n",
    "    return df"
   ]
  },
  {
   "cell_type": "code",
   "execution_count": 29,
   "id": "6634615d-4d99-4194-ae85-6431d4dcd6ed",
   "metadata": {},
   "outputs": [
    {
     "data": {
      "text/html": [
       "<div>\n",
       "<style scoped>\n",
       "    .dataframe tbody tr th:only-of-type {\n",
       "        vertical-align: middle;\n",
       "    }\n",
       "\n",
       "    .dataframe tbody tr th {\n",
       "        vertical-align: top;\n",
       "    }\n",
       "\n",
       "    .dataframe thead th {\n",
       "        text-align: right;\n",
       "    }\n",
       "</style>\n",
       "<table border=\"1\" class=\"dataframe\">\n",
       "  <thead>\n",
       "    <tr style=\"text-align: right;\">\n",
       "      <th></th>\n",
       "      <th>std</th>\n",
       "      <th>student_name</th>\n",
       "      <th>course</th>\n",
       "      <th>address</th>\n",
       "      <th>scholarship</th>\n",
       "    </tr>\n",
       "  </thead>\n",
       "  <tbody>\n",
       "    <tr>\n",
       "      <th>0</th>\n",
       "      <td>101</td>\n",
       "      <td>gaurav dhamija</td>\n",
       "      <td>bca</td>\n",
       "      <td>delhi janakpuri</td>\n",
       "      <td>50000.0</td>\n",
       "    </tr>\n",
       "    <tr>\n",
       "      <th>1</th>\n",
       "      <td>102</td>\n",
       "      <td>rahul dhamija</td>\n",
       "      <td>bba</td>\n",
       "      <td>delhi janakpuri</td>\n",
       "      <td>50000.0</td>\n",
       "    </tr>\n",
       "    <tr>\n",
       "      <th>2</th>\n",
       "      <td>101</td>\n",
       "      <td>gaurav</td>\n",
       "      <td>bba</td>\n",
       "      <td>mu block</td>\n",
       "      <td>2000.0</td>\n",
       "    </tr>\n",
       "    <tr>\n",
       "      <th>3</th>\n",
       "      <td>101</td>\n",
       "      <td>gaurav</td>\n",
       "      <td>bba</td>\n",
       "      <td>mu</td>\n",
       "      <td>3000.0</td>\n",
       "    </tr>\n",
       "    <tr>\n",
       "      <th>4</th>\n",
       "      <td>102</td>\n",
       "      <td>ram</td>\n",
       "      <td>bca</td>\n",
       "      <td>keshav puram</td>\n",
       "      <td>4000.0</td>\n",
       "    </tr>\n",
       "    <tr>\n",
       "      <th>5</th>\n",
       "      <td>103</td>\n",
       "      <td>prem</td>\n",
       "      <td>bcom</td>\n",
       "      <td>kanhiya nagar</td>\n",
       "      <td>5000.0</td>\n",
       "    </tr>\n",
       "  </tbody>\n",
       "</table>\n",
       "</div>"
      ],
      "text/plain": [
       "   std    student_name course          address  scholarship\n",
       "0  101  gaurav dhamija    bca  delhi janakpuri      50000.0\n",
       "1  102   rahul dhamija    bba  delhi janakpuri      50000.0\n",
       "2  101          gaurav    bba        mu block        2000.0\n",
       "3  101          gaurav    bba               mu       3000.0\n",
       "4  102             ram    bca     keshav puram       4000.0\n",
       "5  103            prem   bcom    kanhiya nagar       5000.0"
      ]
     },
     "execution_count": 29,
     "metadata": {},
     "output_type": "execute_result"
    }
   ],
   "source": [
    "show_records('iitm_day5','student_detail')"
   ]
  },
  {
   "cell_type": "code",
   "execution_count": null,
   "id": "6b6fa97c-1aab-43e4-99c2-1ce20a845be5",
   "metadata": {},
   "outputs": [],
   "source": []
  }
 ],
 "metadata": {
  "kernelspec": {
   "display_name": "Python 3 (ipykernel)",
   "language": "python",
   "name": "python3"
  },
  "language_info": {
   "codemirror_mode": {
    "name": "ipython",
    "version": 3
   },
   "file_extension": ".py",
   "mimetype": "text/x-python",
   "name": "python",
   "nbconvert_exporter": "python",
   "pygments_lexer": "ipython3",
   "version": "3.12.7"
  }
 },
 "nbformat": 4,
 "nbformat_minor": 5
}
